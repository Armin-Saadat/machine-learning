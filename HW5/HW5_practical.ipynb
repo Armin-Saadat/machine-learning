{
 "cells": [
  {
   "cell_type": "markdown",
   "metadata": {},
   "source": [
    "<div dir=\"rtl\">\n",
    "    <h2>\n",
    "       تمرین پنجم/بخش عملی\n",
    "    </h2>\n",
    "</div>\n",
    "<p></p>\n",
    "<div dir=\"rtl\">\n",
    "آرمین سعادت بروجنی\n",
    "<p></p>\n",
    "96105829\n",
    "</div>"
   ]
  },
  {
   "cell_type": "markdown",
   "metadata": {},
   "source": [
    "<div dir=\"rtl\">\n",
    "    <h2>\n",
    "        تبدیل مجموعه داده به dataframe\n",
    "    </h2>\n",
    "</div>\n",
    "<p></p>\n",
    "<div dir=\"rtl\">\n",
    "برای سادگی مجموعه در قالب pandas.datafram استفاده می‌شود.\n",
    "<p></p>    \n",
    "    در ضمن مجموعه داده مقدار گم‌شده ندارد.\n",
    "</div>"
   ]
  },
  {
   "cell_type": "code",
   "execution_count": 1,
   "metadata": {},
   "outputs": [
    {
     "data": {
      "text/html": [
       "<div>\n",
       "<style scoped>\n",
       "    .dataframe tbody tr th:only-of-type {\n",
       "        vertical-align: middle;\n",
       "    }\n",
       "\n",
       "    .dataframe tbody tr th {\n",
       "        vertical-align: top;\n",
       "    }\n",
       "\n",
       "    .dataframe thead th {\n",
       "        text-align: right;\n",
       "    }\n",
       "</style>\n",
       "<table border=\"1\" class=\"dataframe\">\n",
       "  <thead>\n",
       "    <tr style=\"text-align: right;\">\n",
       "      <th></th>\n",
       "      <th>sepal_length</th>\n",
       "      <th>sepal_width</th>\n",
       "      <th>petal_length</th>\n",
       "      <th>petal_width</th>\n",
       "      <th>species</th>\n",
       "    </tr>\n",
       "  </thead>\n",
       "  <tbody>\n",
       "    <tr>\n",
       "      <th>0</th>\n",
       "      <td>5.1</td>\n",
       "      <td>3.5</td>\n",
       "      <td>1.4</td>\n",
       "      <td>0.2</td>\n",
       "      <td>setosa</td>\n",
       "    </tr>\n",
       "    <tr>\n",
       "      <th>1</th>\n",
       "      <td>4.9</td>\n",
       "      <td>3.0</td>\n",
       "      <td>1.4</td>\n",
       "      <td>0.2</td>\n",
       "      <td>setosa</td>\n",
       "    </tr>\n",
       "    <tr>\n",
       "      <th>2</th>\n",
       "      <td>4.7</td>\n",
       "      <td>3.2</td>\n",
       "      <td>1.3</td>\n",
       "      <td>0.2</td>\n",
       "      <td>setosa</td>\n",
       "    </tr>\n",
       "    <tr>\n",
       "      <th>3</th>\n",
       "      <td>4.6</td>\n",
       "      <td>3.1</td>\n",
       "      <td>1.5</td>\n",
       "      <td>0.2</td>\n",
       "      <td>setosa</td>\n",
       "    </tr>\n",
       "    <tr>\n",
       "      <th>4</th>\n",
       "      <td>5.0</td>\n",
       "      <td>3.6</td>\n",
       "      <td>1.4</td>\n",
       "      <td>0.2</td>\n",
       "      <td>setosa</td>\n",
       "    </tr>\n",
       "    <tr>\n",
       "      <th>...</th>\n",
       "      <td>...</td>\n",
       "      <td>...</td>\n",
       "      <td>...</td>\n",
       "      <td>...</td>\n",
       "      <td>...</td>\n",
       "    </tr>\n",
       "    <tr>\n",
       "      <th>145</th>\n",
       "      <td>6.7</td>\n",
       "      <td>3.0</td>\n",
       "      <td>5.2</td>\n",
       "      <td>2.3</td>\n",
       "      <td>virginica</td>\n",
       "    </tr>\n",
       "    <tr>\n",
       "      <th>146</th>\n",
       "      <td>6.3</td>\n",
       "      <td>2.5</td>\n",
       "      <td>5.0</td>\n",
       "      <td>1.9</td>\n",
       "      <td>virginica</td>\n",
       "    </tr>\n",
       "    <tr>\n",
       "      <th>147</th>\n",
       "      <td>6.5</td>\n",
       "      <td>3.0</td>\n",
       "      <td>5.2</td>\n",
       "      <td>2.0</td>\n",
       "      <td>virginica</td>\n",
       "    </tr>\n",
       "    <tr>\n",
       "      <th>148</th>\n",
       "      <td>6.2</td>\n",
       "      <td>3.4</td>\n",
       "      <td>5.4</td>\n",
       "      <td>2.3</td>\n",
       "      <td>virginica</td>\n",
       "    </tr>\n",
       "    <tr>\n",
       "      <th>149</th>\n",
       "      <td>5.9</td>\n",
       "      <td>3.0</td>\n",
       "      <td>5.1</td>\n",
       "      <td>1.8</td>\n",
       "      <td>virginica</td>\n",
       "    </tr>\n",
       "  </tbody>\n",
       "</table>\n",
       "<p>150 rows × 5 columns</p>\n",
       "</div>"
      ],
      "text/plain": [
       "     sepal_length  sepal_width  petal_length  petal_width    species\n",
       "0             5.1          3.5           1.4          0.2     setosa\n",
       "1             4.9          3.0           1.4          0.2     setosa\n",
       "2             4.7          3.2           1.3          0.2     setosa\n",
       "3             4.6          3.1           1.5          0.2     setosa\n",
       "4             5.0          3.6           1.4          0.2     setosa\n",
       "..            ...          ...           ...          ...        ...\n",
       "145           6.7          3.0           5.2          2.3  virginica\n",
       "146           6.3          2.5           5.0          1.9  virginica\n",
       "147           6.5          3.0           5.2          2.0  virginica\n",
       "148           6.2          3.4           5.4          2.3  virginica\n",
       "149           5.9          3.0           5.1          1.8  virginica\n",
       "\n",
       "[150 rows x 5 columns]"
      ]
     },
     "execution_count": 1,
     "metadata": {},
     "output_type": "execute_result"
    }
   ],
   "source": [
    "import numpy as np\n",
    "import pandas as pd\n",
    "import random\n",
    "import matplotlib.pyplot as plt\n",
    "\n",
    "plt.rcParams['figure.figsize'] = [12, 8]\n",
    "plt.rcParams['figure.dpi'] = 100 \n",
    "\n",
    "raw_data = pd.read_csv(\"iris.csv\")\n",
    "raw_data"
   ]
  },
  {
   "cell_type": "markdown",
   "metadata": {},
   "source": [
    "<div dir=\"rtl\">\n",
    "    همانطور که مشاهده می‌شود داده‌ها به ۳ دسته setosa و versicolor و virginica تقسیم می‌شود.   \n",
    "</div>"
   ]
  },
  {
   "cell_type": "code",
   "execution_count": 2,
   "metadata": {},
   "outputs": [
    {
     "data": {
      "text/plain": [
       "virginica     50\n",
       "versicolor    50\n",
       "setosa        50\n",
       "Name: species, dtype: int64"
      ]
     },
     "execution_count": 2,
     "metadata": {},
     "output_type": "execute_result"
    }
   ],
   "source": [
    "raw_data['species'].value_counts()"
   ]
  },
  {
   "cell_type": "markdown",
   "metadata": {},
   "source": [
    "<div dir=\"rtl\">\n",
    "    <h2>\n",
    "         بخش اول: perceptron\n",
    "    </h2>\n",
    "</div>"
   ]
  },
  {
   "cell_type": "markdown",
   "metadata": {},
   "source": [
    "<div dir=\"rtl\">\n",
    "    برای این بخش داده‌های مربوط به گیاهان setosa و versicolor مورد بررسی قرار می‌گیرد که به ترتیب مقادیر ۱ و -۱ به عنوان کلاس آنها در نظر گرفته می‌شود. \n",
    "</div>"
   ]
  },
  {
   "cell_type": "code",
   "execution_count": 3,
   "metadata": {},
   "outputs": [
    {
     "name": "stderr",
     "output_type": "stream",
     "text": [
      "/home/rmool/miniconda3/lib/python3.7/site-packages/ipykernel_launcher.py:9: SettingWithCopyWarning: \n",
      "A value is trying to be set on a copy of a slice from a DataFrame.\n",
      "Try using .loc[row_indexer,col_indexer] = value instead\n",
      "\n",
      "See the caveats in the documentation: https://pandas.pydata.org/pandas-docs/stable/user_guide/indexing.html#returning-a-view-versus-a-copy\n",
      "  if __name__ == '__main__':\n"
     ]
    },
    {
     "data": {
      "text/html": [
       "<div>\n",
       "<style scoped>\n",
       "    .dataframe tbody tr th:only-of-type {\n",
       "        vertical-align: middle;\n",
       "    }\n",
       "\n",
       "    .dataframe tbody tr th {\n",
       "        vertical-align: top;\n",
       "    }\n",
       "\n",
       "    .dataframe thead th {\n",
       "        text-align: right;\n",
       "    }\n",
       "</style>\n",
       "<table border=\"1\" class=\"dataframe\">\n",
       "  <thead>\n",
       "    <tr style=\"text-align: right;\">\n",
       "      <th></th>\n",
       "      <th>sepal_length</th>\n",
       "      <th>sepal_width</th>\n",
       "      <th>petal_length</th>\n",
       "      <th>petal_width</th>\n",
       "      <th>species</th>\n",
       "      <th>t</th>\n",
       "    </tr>\n",
       "  </thead>\n",
       "  <tbody>\n",
       "    <tr>\n",
       "      <th>0</th>\n",
       "      <td>5.1</td>\n",
       "      <td>3.5</td>\n",
       "      <td>1.4</td>\n",
       "      <td>0.2</td>\n",
       "      <td>setosa</td>\n",
       "      <td>1</td>\n",
       "    </tr>\n",
       "    <tr>\n",
       "      <th>1</th>\n",
       "      <td>4.9</td>\n",
       "      <td>3.0</td>\n",
       "      <td>1.4</td>\n",
       "      <td>0.2</td>\n",
       "      <td>setosa</td>\n",
       "      <td>1</td>\n",
       "    </tr>\n",
       "    <tr>\n",
       "      <th>2</th>\n",
       "      <td>4.7</td>\n",
       "      <td>3.2</td>\n",
       "      <td>1.3</td>\n",
       "      <td>0.2</td>\n",
       "      <td>setosa</td>\n",
       "      <td>1</td>\n",
       "    </tr>\n",
       "    <tr>\n",
       "      <th>3</th>\n",
       "      <td>4.6</td>\n",
       "      <td>3.1</td>\n",
       "      <td>1.5</td>\n",
       "      <td>0.2</td>\n",
       "      <td>setosa</td>\n",
       "      <td>1</td>\n",
       "    </tr>\n",
       "    <tr>\n",
       "      <th>4</th>\n",
       "      <td>5.0</td>\n",
       "      <td>3.6</td>\n",
       "      <td>1.4</td>\n",
       "      <td>0.2</td>\n",
       "      <td>setosa</td>\n",
       "      <td>1</td>\n",
       "    </tr>\n",
       "    <tr>\n",
       "      <th>...</th>\n",
       "      <td>...</td>\n",
       "      <td>...</td>\n",
       "      <td>...</td>\n",
       "      <td>...</td>\n",
       "      <td>...</td>\n",
       "      <td>...</td>\n",
       "    </tr>\n",
       "    <tr>\n",
       "      <th>95</th>\n",
       "      <td>5.7</td>\n",
       "      <td>3.0</td>\n",
       "      <td>4.2</td>\n",
       "      <td>1.2</td>\n",
       "      <td>versicolor</td>\n",
       "      <td>-1</td>\n",
       "    </tr>\n",
       "    <tr>\n",
       "      <th>96</th>\n",
       "      <td>5.7</td>\n",
       "      <td>2.9</td>\n",
       "      <td>4.2</td>\n",
       "      <td>1.3</td>\n",
       "      <td>versicolor</td>\n",
       "      <td>-1</td>\n",
       "    </tr>\n",
       "    <tr>\n",
       "      <th>97</th>\n",
       "      <td>6.2</td>\n",
       "      <td>2.9</td>\n",
       "      <td>4.3</td>\n",
       "      <td>1.3</td>\n",
       "      <td>versicolor</td>\n",
       "      <td>-1</td>\n",
       "    </tr>\n",
       "    <tr>\n",
       "      <th>98</th>\n",
       "      <td>5.1</td>\n",
       "      <td>2.5</td>\n",
       "      <td>3.0</td>\n",
       "      <td>1.1</td>\n",
       "      <td>versicolor</td>\n",
       "      <td>-1</td>\n",
       "    </tr>\n",
       "    <tr>\n",
       "      <th>99</th>\n",
       "      <td>5.7</td>\n",
       "      <td>2.8</td>\n",
       "      <td>4.1</td>\n",
       "      <td>1.3</td>\n",
       "      <td>versicolor</td>\n",
       "      <td>-1</td>\n",
       "    </tr>\n",
       "  </tbody>\n",
       "</table>\n",
       "<p>100 rows × 6 columns</p>\n",
       "</div>"
      ],
      "text/plain": [
       "    sepal_length  sepal_width  petal_length  petal_width     species  t\n",
       "0            5.1          3.5           1.4          0.2      setosa  1\n",
       "1            4.9          3.0           1.4          0.2      setosa  1\n",
       "2            4.7          3.2           1.3          0.2      setosa  1\n",
       "3            4.6          3.1           1.5          0.2      setosa  1\n",
       "4            5.0          3.6           1.4          0.2      setosa  1\n",
       "..           ...          ...           ...          ...         ... ..\n",
       "95           5.7          3.0           4.2          1.2  versicolor -1\n",
       "96           5.7          2.9           4.2          1.3  versicolor -1\n",
       "97           6.2          2.9           4.3          1.3  versicolor -1\n",
       "98           5.1          2.5           3.0          1.1  versicolor -1\n",
       "99           5.7          2.8           4.1          1.3  versicolor -1\n",
       "\n",
       "[100 rows x 6 columns]"
      ]
     },
     "execution_count": 3,
     "metadata": {},
     "output_type": "execute_result"
    }
   ],
   "source": [
    "def setClass(type):\n",
    "    if type == 'setosa':\n",
    "        return 1\n",
    "    else:\n",
    "        return -1\n",
    "\n",
    "perceptron_data = raw_data.query(\"species == 'setosa' or species == 'versicolor'\")\n",
    "t = perceptron_data['species'].map(setClass)\n",
    "perceptron_data['t'] = t\n",
    "perceptron_data\n"
   ]
  },
  {
   "cell_type": "markdown",
   "metadata": {},
   "source": [
    "<div dir=\"rtl\">\n",
    "    <h2>\n",
    "           تقسیم مجموعه به train و  test\n",
    "    </h2>\n",
    "</div>\n",
    "<p></p>\n",
    "<div dir=\"rtl\">\n",
    "برای این کار ابتدا کل مجموعه به صورت رندوم بر خورد که هیچ ترتیب خاصی در قرارگیری داده‌ها نباشد.\n",
    "<p></p>\n",
    "    همچنین یک ستون بایاس به فیچرها اضافه شد.\n",
    "</div>"
   ]
  },
  {
   "cell_type": "code",
   "execution_count": 4,
   "metadata": {},
   "outputs": [],
   "source": [
    "perceptron_data = perceptron_data.sample(frac=1).reset_index(drop=True)\n",
    "perceptron_data['bayas'] = 1\n",
    "\n",
    "\n",
    "train = perceptron_data.head(80)\n",
    "test = perceptron_data.tail(20)\n",
    "\n",
    "\n",
    "x_train = train.drop([\"species\", \"t\"], axis=1).to_numpy()\n",
    "t_train = train[\"t\"].to_numpy()\n",
    "\n",
    "\n",
    "x_test = test.drop([\"species\", \"t\"], axis=1).to_numpy()\n",
    "t_test = test[\"t\"].to_numpy()"
   ]
  },
  {
   "cell_type": "markdown",
   "metadata": {},
   "source": [
    "<div dir=\"rtl\">\n",
    "    تابع ارور برای perceptron به شکل زیر است:\n",
    "</div>\n",
    "<p></p>\n",
    "<img src=\"./images/perceptron_error_function.png\">\n",
    "<p></p>\n",
    "<div dir=\"rtl\">\n",
    "        بنابراین روش SGD به شکل زیر خواهد بود:\n",
    "<p></p>\n",
    "<img src=\"./images/perceptron_update.png\">\n",
    "<p></p>\n",
    "</div>"
   ]
  },
  {
   "cell_type": "code",
   "execution_count": 5,
   "metadata": {},
   "outputs": [
    {
     "name": "stdout",
     "output_type": "stream",
     "text": [
      "W* is: [ 0.0017  0.0043 -0.0069 -0.0031  0.001 ]\n"
     ]
    }
   ],
   "source": [
    "def get_misclassified(W):\n",
    "    misclassified = []\n",
    "    for i, x in enumerate(x_train):\n",
    "        if W.dot(x) * t_train[i] <= 0:\n",
    "            misclassified.append((x,t_train[i]))\n",
    "    return misclassified\n",
    "\n",
    "def update_W(rate, x, t, W):\n",
    "    return W + rate * x * t\n",
    "\n",
    "def perceptron(rate):\n",
    "    W = np.zeros(x_test.shape[1])\n",
    "    mis_per_it = []\n",
    "    step = 0\n",
    "    \n",
    "    \n",
    "    misclassified = get_misclassified(W)\n",
    "    mis_per_it.append(len(misclassified))\n",
    "    \n",
    "    while len(misclassified) > 0:\n",
    "        index = random.randint(0, len(misclassified) - 1)\n",
    "        x, t = misclassified[index]\n",
    "        W = update_W(rate, x, t, W)\n",
    "        \n",
    "        step += 1\n",
    "        if step == 1000:\n",
    "            break\n",
    "            \n",
    "        misclassified = get_misclassified(W)\n",
    "        mis_per_it.append(len(misclassified))\n",
    "    return W, mis_per_it\n",
    "            \n",
    "W_perceptron, misclassified_per_iteration = perceptron(0.001)\n",
    "\n",
    "print(\"W* is: \", end=\"\")\n",
    "print(W_perceptron)"
   ]
  },
  {
   "cell_type": "markdown",
   "metadata": {},
   "source": [
    "<div dir=\"rtl\">\n",
    "    در بخش بالا الگوریتم SGD پیاده‌سازی شد.\n",
    "    <p></p>\n",
    "        برای این پیاده‌سازی batch_size برابر با ۱ در نظر گرفت شد. \n",
    "        نرخ تغییر نیز برابر با  0.001 قرار داده شد.\n",
    "    <p></p>\n",
    "        در شکل زیر تعداد نقاط misclassified بر حسب iteration آمده است.\n",
    "</div>"
   ]
  },
  {
   "cell_type": "code",
   "execution_count": 6,
   "metadata": {},
   "outputs": [
    {
     "data": {
      "image/png": "[encoded data removed]",
      "text/plain": [
       "<Figure size 1200x800 with 1 Axes>"
      ]
     },
     "metadata": {
      "needs_background": "light"
     },
     "output_type": "display_data"
    },
    {
     "name": "stdout",
     "output_type": "stream",
     "text": [
      "Number of Misclassified Points Per Iteration: [80, 37, 1, 37, 43, 37, 43, 0]\n"
     ]
    }
   ],
   "source": [
    "plt.plot(misclassified_per_iteration, label= 'number of misclassified points')\n",
    "plt.title('Number of Misclassified Points Per Iteration')\n",
    "plt.legend()\n",
    "plt.show()\n",
    "\n",
    "print(\"Number of Misclassified Points Per Iteration: \", end=\"\")\n",
    "print(misclassified_per_iteration)"
   ]
  },
  {
   "cell_type": "markdown",
   "metadata": {},
   "source": [
    "<div dir=\"rtl\">\n",
    "    <p></p>\n",
    "        اکنون با W به دست آمده داده‌های test را دسته‌بندی می‌کنیم.\n",
    "</div>"
   ]
  },
  {
   "cell_type": "code",
   "execution_count": 7,
   "metadata": {},
   "outputs": [
    {
     "name": "stdout",
     "output_type": "stream",
     "text": [
      "Error: 0\n",
      "Number of Misclassified Points: 0/20\n"
     ]
    }
   ],
   "source": [
    "def test_perceptron(W):\n",
    "    error = 0\n",
    "    misclassified = []\n",
    "    for i, x in enumerate(x_test):\n",
    "        if W.dot(x) * t_test[i] <= 0:\n",
    "            misclassified.append((x,t_test[i]))\n",
    "            error += W.dot(x) * t_test[i]\n",
    "    return misclassified, error\n",
    "\n",
    "misclassified, error = test_perceptron(W_perceptron)\n",
    "\n",
    "print(\"Error: \" + str(error))\n",
    "print(\"Number of Misclassified Points: \" + str(len(misclassified)) + \"/20\")"
   ]
  },
  {
   "cell_type": "markdown",
   "metadata": {},
   "source": [
    "<div dir=\"rtl\">\n",
    "    <p></p>\n",
    "        در ادامه confusion matrix آمده است.\n",
    "</div>"
   ]
  },
  {
   "cell_type": "code",
   "execution_count": 8,
   "metadata": {},
   "outputs": [
    {
     "data": {
      "text/html": [
       "<div>\n",
       "<style scoped>\n",
       "    .dataframe tbody tr th:only-of-type {\n",
       "        vertical-align: middle;\n",
       "    }\n",
       "\n",
       "    .dataframe tbody tr th {\n",
       "        vertical-align: top;\n",
       "    }\n",
       "\n",
       "    .dataframe thead th {\n",
       "        text-align: right;\n",
       "    }\n",
       "</style>\n",
       "<table border=\"1\" class=\"dataframe\">\n",
       "  <thead>\n",
       "    <tr style=\"text-align: right;\">\n",
       "      <th></th>\n",
       "      <th>Predicted C1</th>\n",
       "      <th>Predicted C2</th>\n",
       "    </tr>\n",
       "  </thead>\n",
       "  <tbody>\n",
       "    <tr>\n",
       "      <th>Actual C1</th>\n",
       "      <td>7</td>\n",
       "      <td>0</td>\n",
       "    </tr>\n",
       "    <tr>\n",
       "      <th>Actual C2</th>\n",
       "      <td>0</td>\n",
       "      <td>13</td>\n",
       "    </tr>\n",
       "  </tbody>\n",
       "</table>\n",
       "</div>"
      ],
      "text/plain": [
       "           Predicted C1  Predicted C2\n",
       "Actual C1             7             0\n",
       "Actual C2             0            13"
      ]
     },
     "execution_count": 8,
     "metadata": {},
     "output_type": "execute_result"
    }
   ],
   "source": [
    "actual_C1_predicted_C1 = 0\n",
    "actual_C1_predicted_C2 = 0\n",
    "actual_C2_predicted_C1 = 0\n",
    "actual_C2_predicted_C2 = 0\n",
    "\n",
    "for i, x in enumerate(x_test): \n",
    "    if t_test[i] == 1:\n",
    "        if W_perceptron.dot(x) > 0:\n",
    "            actual_C1_predicted_C1 += 1\n",
    "        elif W_perceptron.dot(x) < 0:\n",
    "            actual_C1_predicted_C2 += 1\n",
    "    elif t_test[i] == -1:\n",
    "        if W_perceptron.dot(x) > 0:\n",
    "            actual_C2_predicted_C1 += 1\n",
    "        elif W_perceptron.dot(x) < 0:\n",
    "            actual_C2_predicted_C2 += 1\n",
    "            \n",
    "pd.DataFrame({'Predicted C1': [actual_C1_predicted_C1, actual_C2_predicted_C1], 'Predicted C2': [actual_C1_predicted_C2, actual_C2_predicted_C2]},index = ['Actual C1','Actual C2'])"
   ]
  },
  {
   "cell_type": "markdown",
   "metadata": {},
   "source": [
    "<div dir=\"rtl\">\n",
    "    <h2>\n",
    "         بخش دوم: logistic regression\n",
    "    </h2>\n",
    "    <p></p>   \n",
    "    <p></p>\n",
    "    در ابتدا برای نشان دادن دسته هر داده از روش one_of_k_coding استفاده می‌شود.\n",
    "</div>"
   ]
  },
  {
   "cell_type": "code",
   "execution_count": 9,
   "metadata": {},
   "outputs": [
    {
     "data": {
      "text/html": [
       "<div>\n",
       "<style scoped>\n",
       "    .dataframe tbody tr th:only-of-type {\n",
       "        vertical-align: middle;\n",
       "    }\n",
       "\n",
       "    .dataframe tbody tr th {\n",
       "        vertical-align: top;\n",
       "    }\n",
       "\n",
       "    .dataframe thead th {\n",
       "        text-align: right;\n",
       "    }\n",
       "</style>\n",
       "<table border=\"1\" class=\"dataframe\">\n",
       "  <thead>\n",
       "    <tr style=\"text-align: right;\">\n",
       "      <th></th>\n",
       "      <th>sepal_length</th>\n",
       "      <th>sepal_width</th>\n",
       "      <th>petal_length</th>\n",
       "      <th>petal_width</th>\n",
       "      <th>species</th>\n",
       "      <th>C1</th>\n",
       "      <th>C2</th>\n",
       "      <th>C3</th>\n",
       "    </tr>\n",
       "  </thead>\n",
       "  <tbody>\n",
       "    <tr>\n",
       "      <th>130</th>\n",
       "      <td>7.4</td>\n",
       "      <td>2.8</td>\n",
       "      <td>6.1</td>\n",
       "      <td>1.9</td>\n",
       "      <td>virginica</td>\n",
       "      <td>0</td>\n",
       "      <td>0</td>\n",
       "      <td>1</td>\n",
       "    </tr>\n",
       "    <tr>\n",
       "      <th>98</th>\n",
       "      <td>5.1</td>\n",
       "      <td>2.5</td>\n",
       "      <td>3.0</td>\n",
       "      <td>1.1</td>\n",
       "      <td>versicolor</td>\n",
       "      <td>0</td>\n",
       "      <td>1</td>\n",
       "      <td>0</td>\n",
       "    </tr>\n",
       "    <tr>\n",
       "      <th>102</th>\n",
       "      <td>7.1</td>\n",
       "      <td>3.0</td>\n",
       "      <td>5.9</td>\n",
       "      <td>2.1</td>\n",
       "      <td>virginica</td>\n",
       "      <td>0</td>\n",
       "      <td>0</td>\n",
       "      <td>1</td>\n",
       "    </tr>\n",
       "    <tr>\n",
       "      <th>94</th>\n",
       "      <td>5.6</td>\n",
       "      <td>2.7</td>\n",
       "      <td>4.2</td>\n",
       "      <td>1.3</td>\n",
       "      <td>versicolor</td>\n",
       "      <td>0</td>\n",
       "      <td>1</td>\n",
       "      <td>0</td>\n",
       "    </tr>\n",
       "    <tr>\n",
       "      <th>76</th>\n",
       "      <td>6.8</td>\n",
       "      <td>2.8</td>\n",
       "      <td>4.8</td>\n",
       "      <td>1.4</td>\n",
       "      <td>versicolor</td>\n",
       "      <td>0</td>\n",
       "      <td>1</td>\n",
       "      <td>0</td>\n",
       "    </tr>\n",
       "    <tr>\n",
       "      <th>43</th>\n",
       "      <td>5.0</td>\n",
       "      <td>3.5</td>\n",
       "      <td>1.6</td>\n",
       "      <td>0.6</td>\n",
       "      <td>setosa</td>\n",
       "      <td>1</td>\n",
       "      <td>0</td>\n",
       "      <td>0</td>\n",
       "    </tr>\n",
       "    <tr>\n",
       "      <th>9</th>\n",
       "      <td>4.9</td>\n",
       "      <td>3.1</td>\n",
       "      <td>1.5</td>\n",
       "      <td>0.1</td>\n",
       "      <td>setosa</td>\n",
       "      <td>1</td>\n",
       "      <td>0</td>\n",
       "      <td>0</td>\n",
       "    </tr>\n",
       "    <tr>\n",
       "      <th>15</th>\n",
       "      <td>5.7</td>\n",
       "      <td>4.4</td>\n",
       "      <td>1.5</td>\n",
       "      <td>0.4</td>\n",
       "      <td>setosa</td>\n",
       "      <td>1</td>\n",
       "      <td>0</td>\n",
       "      <td>0</td>\n",
       "    </tr>\n",
       "    <tr>\n",
       "      <th>23</th>\n",
       "      <td>5.1</td>\n",
       "      <td>3.3</td>\n",
       "      <td>1.7</td>\n",
       "      <td>0.5</td>\n",
       "      <td>setosa</td>\n",
       "      <td>1</td>\n",
       "      <td>0</td>\n",
       "      <td>0</td>\n",
       "    </tr>\n",
       "    <tr>\n",
       "      <th>3</th>\n",
       "      <td>4.6</td>\n",
       "      <td>3.1</td>\n",
       "      <td>1.5</td>\n",
       "      <td>0.2</td>\n",
       "      <td>setosa</td>\n",
       "      <td>1</td>\n",
       "      <td>0</td>\n",
       "      <td>0</td>\n",
       "    </tr>\n",
       "  </tbody>\n",
       "</table>\n",
       "</div>"
      ],
      "text/plain": [
       "     sepal_length  sepal_width  petal_length  petal_width     species  C1  C2  \\\n",
       "130           7.4          2.8           6.1          1.9   virginica   0   0   \n",
       "98            5.1          2.5           3.0          1.1  versicolor   0   1   \n",
       "102           7.1          3.0           5.9          2.1   virginica   0   0   \n",
       "94            5.6          2.7           4.2          1.3  versicolor   0   1   \n",
       "76            6.8          2.8           4.8          1.4  versicolor   0   1   \n",
       "43            5.0          3.5           1.6          0.6      setosa   1   0   \n",
       "9             4.9          3.1           1.5          0.1      setosa   1   0   \n",
       "15            5.7          4.4           1.5          0.4      setosa   1   0   \n",
       "23            5.1          3.3           1.7          0.5      setosa   1   0   \n",
       "3             4.6          3.1           1.5          0.2      setosa   1   0   \n",
       "\n",
       "     C3  \n",
       "130   1  \n",
       "98    0  \n",
       "102   1  \n",
       "94    0  \n",
       "76    0  \n",
       "43    0  \n",
       "9     0  \n",
       "15    0  \n",
       "23    0  \n",
       "3     0  "
      ]
     },
     "execution_count": 9,
     "metadata": {},
     "output_type": "execute_result"
    }
   ],
   "source": [
    "def setC1(type):\n",
    "    if type == 'setosa':\n",
    "        return 1\n",
    "    else:\n",
    "        return 0\n",
    "    \n",
    "def setC2(type):\n",
    "    if type == 'versicolor':\n",
    "        return 1\n",
    "    else:\n",
    "        return 0\n",
    "\n",
    "def setC3(type):\n",
    "    if type == 'virginica':\n",
    "        return 1\n",
    "    else:\n",
    "        return 0\n",
    "\n",
    "data = raw_data.copy(deep=True)\n",
    "C1 = data['species'].map(setC1)\n",
    "C2 = data['species'].map(setC2)\n",
    "C3 = data['species'].map(setC3)\n",
    "data['C1'] = C1\n",
    "data['C2'] = C2\n",
    "data['C3'] = C3\n",
    "data.sample(10)"
   ]
  },
  {
   "cell_type": "markdown",
   "metadata": {},
   "source": [
    "<div dir=\"rtl\">\n",
    "    تقسیم داده‌ها به test و train و اضافه کردن بایاس:\n",
    "</div>"
   ]
  },
  {
   "cell_type": "code",
   "execution_count": 10,
   "metadata": {},
   "outputs": [],
   "source": [
    "data = data.sample(frac=1).reset_index(drop=True)\n",
    "data['bayas'] = 1\n",
    "\n",
    "\n",
    "train = data.head(120)\n",
    "test = data.tail(30)\n",
    "\n",
    "\n",
    "x_train = train.drop([\"species\", \"C1\", \"C2\", \"C3\"], axis=1).to_numpy()\n",
    "t_train = train[[\"C1\", \"C2\", \"C3\"]].to_numpy()\n",
    "\n",
    "\n",
    "x_test = test.drop([\"species\", \"C1\", \"C2\", \"C3\"], axis=1).to_numpy()\n",
    "t_test = test[[\"C1\", \"C2\", \"C3\"]].to_numpy()"
   ]
  },
  {
   "cell_type": "markdown",
   "metadata": {},
   "source": [
    "<div dir=\"rtl\">\n",
    "    <h3>\n",
    "        قسمت a)\n",
    "    </h3>\n",
    "</div>"
   ]
  },
  {
   "cell_type": "markdown",
   "metadata": {},
   "source": [
    "<div dir=\"rtl\">\n",
    "    روابط مربوط به این بخش به شکل زیر است:\n",
    "<p></p>\n",
    "<img src=\"./images/yk.png\">\n",
    "<p></p>\n",
    "<p></p>\n",
    "<img src=\"./images/logistic_error_function.png\">\n",
    "<p></p>\n",
    "<p></p>\n",
    "<img src=\"./images/logistic_update.png\">\n",
    "<p></p>\n",
    "</div>"
   ]
  },
  {
   "cell_type": "code",
   "execution_count": 11,
   "metadata": {},
   "outputs": [
    {
     "name": "stdout",
     "output_type": "stream",
     "text": [
      "W1: [ 3.60193426  6.66582257 -9.08632896 -4.47069455  1.53411324]\n",
      "W2: [ 2.92871278  1.07579919 -3.00088317 -4.45888517  5.29299925]\n",
      "W3: [-6.53064704 -7.74162176 12.08721213  8.92957972 -6.82711249]\n"
     ]
    }
   ],
   "source": [
    "def get_error(Ws):\n",
    "    error = 0\n",
    "    for i, x in enumerate(x_train):\n",
    "        for k in range(1, 4):\n",
    "            error -= t_train[i][k - 1] * np.log(softmax(k, x, Ws))\n",
    "    return error\n",
    "\n",
    "def softmax(k, x, Ws):\n",
    "    Wk = Ws[k - 1]\n",
    "    ak = Wk.dot(x)\n",
    "    up = np.exp(ak)\n",
    "    down = 0\n",
    "    for W in Ws:\n",
    "        aj = W.dot(x)\n",
    "        down += np.exp(aj)\n",
    "    return up / down\n",
    "    \n",
    "\n",
    "def update_W1(rate, W1, Ws):\n",
    "    grad = 0\n",
    "    for i, x in enumerate(x_train):\n",
    "        grad += (softmax(1, x, Ws) - t_train[i][0]) * x\n",
    "    return W1 - rate * grad\n",
    "\n",
    "def update_W2(rate, W2, Ws):\n",
    "    grad = 0\n",
    "    for i, x in enumerate(x_train):\n",
    "        grad += (softmax(2, x, Ws) - t_train[i][1]) * x\n",
    "    return W2 - rate * grad\n",
    "\n",
    "def update_W3(rate, W3, Ws):\n",
    "    grad = 0\n",
    "    for i, x in enumerate(x_train):\n",
    "        grad += (softmax(3, x, Ws) - t_train[i][2]) * x\n",
    "    return W3 - rate * grad\n",
    "\n",
    "\n",
    "def logistic(rate, iterations):\n",
    "    W1 = np.zeros(x_test.shape[1])\n",
    "    W2 = np.zeros(x_test.shape[1])\n",
    "    W3 = np.zeros(x_test.shape[1])\n",
    "\n",
    "    loss = []\n",
    "    \n",
    "    for _ in range(iterations):\n",
    "        W1_temp = update_W1(rate, W1, [W1, W2, W3])\n",
    "        W2_temp = update_W2(rate, W2, [W1, W2, W3])\n",
    "        W3_temp = update_W3(rate, W3, [W1, W2, W3])\n",
    "        \n",
    "        W1 = W1_temp\n",
    "        W2 = W2_temp\n",
    "        W3 = W3_temp\n",
    "        \n",
    "        loss.append(get_error([W1, W2, W3]))\n",
    "            \n",
    "    return W1, W2, W3, loss\n",
    "            \n",
    "W1, W2, W3, training_loss = logistic(0.007, 6000)\n",
    "\n",
    "\n",
    "print(\"W1: \", end=\"\")\n",
    "print(W1)\n",
    "\n",
    "print(\"W2: \", end=\"\")\n",
    "print(W2)\n",
    "\n",
    "print(\"W3: \", end=\"\")\n",
    "print(W3)"
   ]
  },
  {
   "cell_type": "markdown",
   "metadata": {},
   "source": [
    "<div dir=\"rtl\">\n",
    "    در بالا مدل logistic regression توسط روش Gradiant Descent پیاده‌سازی شد.\n",
    "    <p></p>\n",
    "    تعداد iteration و rate برای به روزرسانی پارامترها در واقع hyper_parameter هستند که چون validation_set نداریم دستی چک شد.\n",
    "    <p></p>\n",
    "    نمودار میزان خطا در هر iteration به شکل زیر است:\n",
    "</div>"
   ]
  },
  {
   "cell_type": "code",
   "execution_count": 12,
   "metadata": {},
   "outputs": [
    {
     "data": {
      "image/png": "[encoded data removed]",
      "text/plain": [
       "<Figure size 1200x800 with 1 Axes>"
      ]
     },
     "metadata": {
      "needs_background": "light"
     },
     "output_type": "display_data"
    },
    {
     "name": "stdout",
     "output_type": "stream",
     "text": [
      "Final Loss on Training Data: 3.3901747555161026\n"
     ]
    }
   ],
   "source": [
    "plt.plot(training_loss, label='training_loss')\n",
    "plt.title(\"Cross Entropy Error for Logistic Regression Per Iteration\")\n",
    "plt.legend()\n",
    "plt.show()\n",
    "print(\"Final Loss on Training Data: \" + str(training_loss[-1]))"
   ]
  },
  {
   "cell_type": "markdown",
   "metadata": {},
   "source": [
    "<div dir=\"rtl\">\n",
    "    نمودار برای ۲۵۰ iteration اول به شکل زیر است:\n",
    "</div>"
   ]
  },
  {
   "cell_type": "code",
   "execution_count": 13,
   "metadata": {},
   "outputs": [
    {
     "data": {
      "image/png": "[encoded data removed]",
      "text/plain": [
       "<Figure size 1200x800 with 1 Axes>"
      ]
     },
     "metadata": {
      "needs_background": "light"
     },
     "output_type": "display_data"
    },
    {
     "name": "stdout",
     "output_type": "stream",
     "text": [
      "Loss at Iteration 250 on Training Data: 5.855095107723344\n"
     ]
    }
   ],
   "source": [
    "plt.plot(training_loss[0:250], label='training_loss')\n",
    "plt.title(\"Cross Entropy Error for Logistic Regression Per Iteration (First 250 Iterations)\")\n",
    "plt.legend()\n",
    "plt.show()\n",
    "print(\"Loss at Iteration 250 on Training Data: \" + str(training_loss[249]))"
   ]
  },
  {
   "cell_type": "markdown",
   "metadata": {},
   "source": [
    "<div dir=\"rtl\">\n",
    "    <p></p>\n",
    "        اکنون با W به دست آمده داده‌های test را دسته‌بندی می‌کنیم.\n",
    "</div>"
   ]
  },
  {
   "cell_type": "code",
   "execution_count": 14,
   "metadata": {},
   "outputs": [
    {
     "name": "stdout",
     "output_type": "stream",
     "text": [
      "Logistic Regression Loss on Test Data: 6.007787151467354\n"
     ]
    }
   ],
   "source": [
    "test_error = 0\n",
    "for i, x in enumerate(x_test):\n",
    "    for k in range(1, 4):\n",
    "        test_error -= t_test[i][k - 1] * np.log(softmax(k, x, [W1, W2, W3]))\n",
    "print(\"Logistic Regression Loss on Test Data: \" + str(test_error))"
   ]
  },
  {
   "cell_type": "markdown",
   "metadata": {},
   "source": [
    "<div dir=\"rtl\">\n",
    "    <p></p>\n",
    "        در ادامه confusion matrix آمده است.\n",
    "</div>"
   ]
  },
  {
   "cell_type": "code",
   "execution_count": 15,
   "metadata": {},
   "outputs": [
    {
     "name": "stdout",
     "output_type": "stream",
     "text": [
      "Number of Misclassified Points: 1/30\n"
     ]
    },
    {
     "data": {
      "text/html": [
       "<div>\n",
       "<style scoped>\n",
       "    .dataframe tbody tr th:only-of-type {\n",
       "        vertical-align: middle;\n",
       "    }\n",
       "\n",
       "    .dataframe tbody tr th {\n",
       "        vertical-align: top;\n",
       "    }\n",
       "\n",
       "    .dataframe thead th {\n",
       "        text-align: right;\n",
       "    }\n",
       "</style>\n",
       "<table border=\"1\" class=\"dataframe\">\n",
       "  <thead>\n",
       "    <tr style=\"text-align: right;\">\n",
       "      <th></th>\n",
       "      <th>Predicted C1</th>\n",
       "      <th>Predicted C2</th>\n",
       "      <th>Predicted C3</th>\n",
       "    </tr>\n",
       "  </thead>\n",
       "  <tbody>\n",
       "    <tr>\n",
       "      <th>Actual C1</th>\n",
       "      <td>12</td>\n",
       "      <td>0</td>\n",
       "      <td>0</td>\n",
       "    </tr>\n",
       "    <tr>\n",
       "      <th>Actual C2</th>\n",
       "      <td>0</td>\n",
       "      <td>11</td>\n",
       "      <td>1</td>\n",
       "    </tr>\n",
       "    <tr>\n",
       "      <th>Actual C3</th>\n",
       "      <td>0</td>\n",
       "      <td>0</td>\n",
       "      <td>6</td>\n",
       "    </tr>\n",
       "  </tbody>\n",
       "</table>\n",
       "</div>"
      ],
      "text/plain": [
       "           Predicted C1  Predicted C2  Predicted C3\n",
       "Actual C1            12             0             0\n",
       "Actual C2             0            11             1\n",
       "Actual C3             0             0             6"
      ]
     },
     "execution_count": 15,
     "metadata": {},
     "output_type": "execute_result"
    }
   ],
   "source": [
    "def make_confusion_matrix(W1, W2, W3):\n",
    "    actual_C1_predicted_C1 = 0\n",
    "    actual_C1_predicted_C2 = 0\n",
    "    actual_C1_predicted_C3 = 0\n",
    "\n",
    "    actual_C2_predicted_C1 = 0\n",
    "    actual_C2_predicted_C2 = 0\n",
    "    actual_C2_predicted_C3 = 0\n",
    "\n",
    "    actual_C3_predicted_C1 = 0\n",
    "    actual_C3_predicted_C2 = 0\n",
    "    actual_C3_predicted_C3 = 0\n",
    "\n",
    "    Ws = [W1, W2, W3]\n",
    "    for i, x in enumerate(x_test): \n",
    "        t = t_test[i]\n",
    "\n",
    "        p_C1 = softmax(1, x, Ws)\n",
    "        p_C2 = softmax(2, x, Ws)\n",
    "        p_C3 = softmax(3, x, Ws)\n",
    "        m = max(p_C1, p_C2, p_C3)\n",
    "\n",
    "\n",
    "        #predict C1     \n",
    "        if m == p_C1:\n",
    "            if t[0] == 1:\n",
    "                actual_C1_predicted_C1 += 1\n",
    "            elif t[1] == 1:\n",
    "                actual_C2_predicted_C1 += 1\n",
    "            elif t[2] == 1:\n",
    "                actual_C3_predicted_C1 += 1\n",
    "\n",
    "        #predict C2     \n",
    "        elif m == p_C2:\n",
    "            if t[0] == 1:\n",
    "                actual_C1_predicted_C2 += 1\n",
    "            elif t[1] == 1:\n",
    "                actual_C2_predicted_C2 += 1\n",
    "            elif t[2] == 1:\n",
    "                actual_C3_predicted_C2 += 1\n",
    "\n",
    "        #predict C3     \n",
    "        elif m == p_C3:\n",
    "            if t[0] == 1:\n",
    "                actual_C1_predicted_C3 += 1\n",
    "            elif t[1] == 1:\n",
    "                actual_C2_predicted_C3 += 1\n",
    "            elif t[2] == 1:\n",
    "                actual_C3_predicted_C3 += 1\n",
    "\n",
    "    print(\"Number of Misclassified Points: \" + str(30 - (actual_C1_predicted_C1 + actual_C2_predicted_C2 + actual_C3_predicted_C3)) + \"/30\")\n",
    "    return pd.DataFrame({'Predicted C1': [actual_C1_predicted_C1, actual_C2_predicted_C1, actual_C3_predicted_C1], 'Predicted C2': [actual_C1_predicted_C2, actual_C2_predicted_C2, actual_C3_predicted_C2], 'Predicted C3': [actual_C1_predicted_C3, actual_C2_predicted_C3, actual_C3_predicted_C3]},index = ['Actual C1','Actual C2','Actual C3'])\n",
    "\n",
    "make_confusion_matrix(W1, W2, W3)"
   ]
  },
  {
   "cell_type": "markdown",
   "metadata": {},
   "source": [
    "<div dir=\"rtl\">\n",
    "    <h3>\n",
    "        قسمت b)\n",
    "    </h3>\n",
    "</div>"
   ]
  },
  {
   "cell_type": "markdown",
   "metadata": {},
   "source": [
    "<div dir=\"rtl\">\n",
    "    <h3>\n",
    "        پیاده‌سازی logistic regression به همراه regularizer\n",
    "    </h3>\n",
    "</div>\n",
    "<p></p>\n",
    "<div dir=\"rtl\">\n",
    "       کاملا شبیه بخش a عمل میکنیم با این تفاوت که در رابطه به روز رسانی پارامتر یک تفاوت کوچک وجود دارد و w قبلی نیز با گرادیان جمع می‌شود.\n",
    "<p></p>\n",
    "    به تابع loss نیز مقدار L2_regularizer اضافه می‌شود.\n",
    "<p></p>\n",
    "    تاثیر این ترم جدید در یک hyper_parameter به نام L2_weight ضرب می‌شود که همان ۳ مقداری که در صورت تمرین ذکر شده است را به خود می‌گیرد.\n",
    "</div>"
   ]
  },
  {
   "cell_type": "code",
   "execution_count": 16,
   "metadata": {},
   "outputs": [],
   "source": [
    "def get_error_L2(Ws, L2_weight):\n",
    "    W1 = Ws[0]\n",
    "    W2 = Ws[1]\n",
    "    W3 = Ws[2]\n",
    "    error = L2_weight * (W1.dot(W1) + W2.dot(W2) + W3.dot(W3))\n",
    "    for i, x in enumerate(x_train):\n",
    "        for k in range(1, 4):\n",
    "            error -= t_train[i][k - 1] * np.log(softmax(k, x, Ws))\n",
    "    return error\n",
    "\n",
    "def update_W1_L2(rate, W1, Ws, L2_weight):\n",
    "    grad = W1 * L2_weight\n",
    "    for i, x in enumerate(x_train):\n",
    "        grad += (softmax(1, x, Ws) - t_train[i][0]) * x\n",
    "    return W1 - rate * grad\n",
    "\n",
    "def update_W2_L2(rate, W2, Ws, L2_weight):\n",
    "    grad = W2 * L2_weight\n",
    "    for i, x in enumerate(x_train):\n",
    "        grad += (softmax(2, x, Ws) - t_train[i][1]) * x\n",
    "    \n",
    "    return W2 - rate * grad\n",
    "\n",
    "def update_W3_L2(rate, W3, Ws, L2_weight):\n",
    "    grad = W3 * L2_weight\n",
    "    for i, x in enumerate(x_train):\n",
    "        grad += (softmax(3, x, Ws) - t_train[i][2]) * x\n",
    "    return W3 - rate * grad\n",
    "\n",
    "\n",
    "def logistic_L2(rate, iterations, L2_weight):\n",
    "    W1 = np.zeros(x_test.shape[1])\n",
    "    W2 = np.zeros(x_test.shape[1])\n",
    "    W3 = np.zeros(x_test.shape[1])\n",
    "\n",
    "    loss = []\n",
    "    \n",
    "    for _ in range(iterations):\n",
    "        W1_temp = update_W1_L2(rate, W1, [W1, W2, W3], L2_weight)\n",
    "        W2_temp = update_W2_L2(rate, W2, [W1, W2, W3], L2_weight)\n",
    "        W3_temp = update_W3_L2(rate, W3, [W1, W2, W3], L2_weight)\n",
    "        \n",
    "        W1 = W1_temp\n",
    "        W2 = W2_temp\n",
    "        W3 = W3_temp\n",
    "        \n",
    "        loss.append(get_error_L2([W1, W2, W3], L2_weight))\n",
    "            \n",
    "    return W1, W2, W3, loss"
   ]
  },
  {
   "cell_type": "markdown",
   "metadata": {},
   "source": [
    "<div dir=\"rtl\">\n",
    "    حال برای هر یک از ۳ مقدار L2_weight نتیجه را حساب میکنیم.\n",
    "</div>"
   ]
  },
  {
   "cell_type": "markdown",
   "metadata": {},
   "source": [
    "<div dir=\"rtl\">\n",
    "    <h4>\n",
    "        برای حالت L2_weight = 0.1\n",
    "    </h4>\n",
    "</div>"
   ]
  },
  {
   "cell_type": "code",
   "execution_count": 17,
   "metadata": {},
   "outputs": [
    {
     "name": "stdout",
     "output_type": "stream",
     "text": [
      "W1: [ 2.71709743  5.40749893 -7.17942685 -3.67043357  1.14846076]\n",
      "W2: [ 2.75094166  0.30723074 -2.13344203 -3.72358065  3.30980645]\n",
      "W3: [-5.4680391  -5.71472966  9.31286888  7.39401423 -4.45826721]\n",
      "Number of Misclassified Points: 1/30\n"
     ]
    },
    {
     "data": {
      "text/html": [
       "<div>\n",
       "<style scoped>\n",
       "    .dataframe tbody tr th:only-of-type {\n",
       "        vertical-align: middle;\n",
       "    }\n",
       "\n",
       "    .dataframe tbody tr th {\n",
       "        vertical-align: top;\n",
       "    }\n",
       "\n",
       "    .dataframe thead th {\n",
       "        text-align: right;\n",
       "    }\n",
       "</style>\n",
       "<table border=\"1\" class=\"dataframe\">\n",
       "  <thead>\n",
       "    <tr style=\"text-align: right;\">\n",
       "      <th></th>\n",
       "      <th>Predicted C1</th>\n",
       "      <th>Predicted C2</th>\n",
       "      <th>Predicted C3</th>\n",
       "    </tr>\n",
       "  </thead>\n",
       "  <tbody>\n",
       "    <tr>\n",
       "      <th>Actual C1</th>\n",
       "      <td>12</td>\n",
       "      <td>0</td>\n",
       "      <td>0</td>\n",
       "    </tr>\n",
       "    <tr>\n",
       "      <th>Actual C2</th>\n",
       "      <td>0</td>\n",
       "      <td>11</td>\n",
       "      <td>1</td>\n",
       "    </tr>\n",
       "    <tr>\n",
       "      <th>Actual C3</th>\n",
       "      <td>0</td>\n",
       "      <td>0</td>\n",
       "      <td>6</td>\n",
       "    </tr>\n",
       "  </tbody>\n",
       "</table>\n",
       "</div>"
      ],
      "text/plain": [
       "           Predicted C1  Predicted C2  Predicted C3\n",
       "Actual C1            12             0             0\n",
       "Actual C2             0            11             1\n",
       "Actual C3             0             0             6"
      ]
     },
     "execution_count": 17,
     "metadata": {},
     "output_type": "execute_result"
    }
   ],
   "source": [
    "W1, W2, W3, training_loss = logistic_L2(0.007, 6000, 0.1)\n",
    "print(\"W1: \", end=\"\")\n",
    "print(W1)\n",
    "\n",
    "print(\"W2: \", end=\"\")\n",
    "print(W2)\n",
    "\n",
    "print(\"W3: \", end=\"\")\n",
    "print(W3)\n",
    "\n",
    "make_confusion_matrix(W1, W2, W3)"
   ]
  },
  {
   "cell_type": "markdown",
   "metadata": {},
   "source": [
    "<div dir=\"rtl\">\n",
    "    <h4>\n",
    "        برای حالت L2_weight = 1\n",
    "    </h4>\n",
    "</div>"
   ]
  },
  {
   "cell_type": "code",
   "execution_count": 18,
   "metadata": {},
   "outputs": [
    {
     "name": "stdout",
     "output_type": "stream",
     "text": [
      "W1: [ 2.38108011  4.32687782 -4.92435834 -2.37128084  0.8993324 ]\n",
      "W2: [ 1.81919194 -1.12695947 -1.0546579  -2.60107891  1.2311491 ]\n",
      "W3: [-4.20027205 -3.19991835  5.97901623  4.97235975 -2.1304815 ]\n",
      "Number of Misclassified Points: 12/30\n"
     ]
    },
    {
     "data": {
      "text/html": [
       "<div>\n",
       "<style scoped>\n",
       "    .dataframe tbody tr th:only-of-type {\n",
       "        vertical-align: middle;\n",
       "    }\n",
       "\n",
       "    .dataframe tbody tr th {\n",
       "        vertical-align: top;\n",
       "    }\n",
       "\n",
       "    .dataframe thead th {\n",
       "        text-align: right;\n",
       "    }\n",
       "</style>\n",
       "<table border=\"1\" class=\"dataframe\">\n",
       "  <thead>\n",
       "    <tr style=\"text-align: right;\">\n",
       "      <th></th>\n",
       "      <th>Predicted C1</th>\n",
       "      <th>Predicted C2</th>\n",
       "      <th>Predicted C3</th>\n",
       "    </tr>\n",
       "  </thead>\n",
       "  <tbody>\n",
       "    <tr>\n",
       "      <th>Actual C1</th>\n",
       "      <td>12</td>\n",
       "      <td>0</td>\n",
       "      <td>0</td>\n",
       "    </tr>\n",
       "    <tr>\n",
       "      <th>Actual C2</th>\n",
       "      <td>11</td>\n",
       "      <td>0</td>\n",
       "      <td>1</td>\n",
       "    </tr>\n",
       "    <tr>\n",
       "      <th>Actual C3</th>\n",
       "      <td>0</td>\n",
       "      <td>0</td>\n",
       "      <td>6</td>\n",
       "    </tr>\n",
       "  </tbody>\n",
       "</table>\n",
       "</div>"
      ],
      "text/plain": [
       "           Predicted C1  Predicted C2  Predicted C3\n",
       "Actual C1            12             0             0\n",
       "Actual C2            11             0             1\n",
       "Actual C3             0             0             6"
      ]
     },
     "execution_count": 18,
     "metadata": {},
     "output_type": "execute_result"
    }
   ],
   "source": [
    "W1, W2, W3, training_loss = logistic_L2(0.007, 6000, 1)\n",
    "print(\"W1: \", end=\"\")\n",
    "print(W1)\n",
    "\n",
    "print(\"W2: \", end=\"\")\n",
    "print(W2)\n",
    "\n",
    "print(\"W3: \", end=\"\")\n",
    "print(W3)\n",
    "\n",
    "make_confusion_matrix(W1, W2, W3)"
   ]
  },
  {
   "cell_type": "markdown",
   "metadata": {},
   "source": [
    "<div dir=\"rtl\">\n",
    "    <h4>\n",
    "        برای حالت L2_weight = 10\n",
    "    </h4>\n",
    "</div>"
   ]
  },
  {
   "cell_type": "code",
   "execution_count": 19,
   "metadata": {},
   "outputs": [
    {
     "name": "stdout",
     "output_type": "stream",
     "text": [
      "W1: [ 1.44304693  2.47639153 -2.83301337 -1.38319534  0.55102208]\n",
      "W2: [-1.87945609 -1.85322134 -0.51898573 -0.40749266 -0.28699155]\n",
      "W3: [ 0.43640916 -0.62317018  3.35199909  1.790688   -0.26403053]\n",
      "Number of Misclassified Points: 12/30\n"
     ]
    },
    {
     "data": {
      "text/html": [
       "<div>\n",
       "<style scoped>\n",
       "    .dataframe tbody tr th:only-of-type {\n",
       "        vertical-align: middle;\n",
       "    }\n",
       "\n",
       "    .dataframe tbody tr th {\n",
       "        vertical-align: top;\n",
       "    }\n",
       "\n",
       "    .dataframe thead th {\n",
       "        text-align: right;\n",
       "    }\n",
       "</style>\n",
       "<table border=\"1\" class=\"dataframe\">\n",
       "  <thead>\n",
       "    <tr style=\"text-align: right;\">\n",
       "      <th></th>\n",
       "      <th>Predicted C1</th>\n",
       "      <th>Predicted C2</th>\n",
       "      <th>Predicted C3</th>\n",
       "    </tr>\n",
       "  </thead>\n",
       "  <tbody>\n",
       "    <tr>\n",
       "      <th>Actual C1</th>\n",
       "      <td>12</td>\n",
       "      <td>0</td>\n",
       "      <td>0</td>\n",
       "    </tr>\n",
       "    <tr>\n",
       "      <th>Actual C2</th>\n",
       "      <td>0</td>\n",
       "      <td>0</td>\n",
       "      <td>12</td>\n",
       "    </tr>\n",
       "    <tr>\n",
       "      <th>Actual C3</th>\n",
       "      <td>0</td>\n",
       "      <td>0</td>\n",
       "      <td>6</td>\n",
       "    </tr>\n",
       "  </tbody>\n",
       "</table>\n",
       "</div>"
      ],
      "text/plain": [
       "           Predicted C1  Predicted C2  Predicted C3\n",
       "Actual C1            12             0             0\n",
       "Actual C2             0             0            12\n",
       "Actual C3             0             0             6"
      ]
     },
     "execution_count": 19,
     "metadata": {},
     "output_type": "execute_result"
    }
   ],
   "source": [
    "W1, W2, W3, training_loss = logistic_L2(0.007, 6000, 10)\n",
    "print(\"W1: \", end=\"\")\n",
    "print(W1)\n",
    "\n",
    "print(\"W2: \", end=\"\")\n",
    "print(W2)\n",
    "\n",
    "print(\"W3: \", end=\"\")\n",
    "print(W3)\n",
    "\n",
    "make_confusion_matrix(W1, W2, W3)"
   ]
  },
  {
   "cell_type": "markdown",
   "metadata": {},
   "source": [
    "<div dir=\"rtl\">\n",
    "    <h4>\n",
    "        تحلیل و نتیجه‌گیری\n",
    "    </h4>\n",
    "</div>"
   ]
  },
  {
   "cell_type": "markdown",
   "metadata": {},
   "source": [
    "<div dir=\"rtl\">\n",
    "        پس از چندین بار ران گرفتن از کل برنامه، مشاهده شد که classifier معمولی نسبت به regularized-classifier عملکرد نسبتا بهتری دارد.\n",
    "    <p></p>\n",
    "    در حالت هایی که L2_weight برابر با ۱ و ۱۰ هست، دقت پایین آمده و معمولا حدود ۱۰ نقطه از ۳۰ نقطه اشتباه دسته‌بندی می‌شوند (که غالبا هم داده‌های مربوط به C2 اشتباه شناسایی می‌شود).\n",
    "    <p></p>\n",
    "    حالت L2_weight = 0.1 در برخی موارد مانند حالت بدون regularizer عمل میکند و برخی موارد کمی بدتر عمل میکند (۱-۳ نقطه را اشتباه دسته‌بندی می‌کند).\n",
    "    <p></p>\n",
    "    حالت عادی نسبتا عملکرد بهتری دارد. معمولا بین ۰-۲ نقطه را به اشتباه دسته‌بندی میکند.\n",
    "    <p></p>\n",
    "    <p></p>\n",
    "    نتایج به دست آمده را میتوان اینگونه تحلیل کرد که به دلایلی (حجم مجموعه داده یادگیری، انتخاب rate به روز رسانی، تعداد iteration ها و ...) classifier در حالت عادی overfit نکرده است و به خوبی روی داده‌های test نیز عمل می‌کند.\n",
    "    <p></p>\n",
    "    بنابراین با اضافه کردن ترم regularizer به جای اینکه از overfit شدن جلوگیری شود، بیشتر به این سمت می‌رود که classifier روی داده‌های یادگیری underfit شده و قدرت کافی را برای تشخیص به دست نمی‌آورد.\n",
    "    <p></p>\n",
    "    در ضمن با مقایسه پارامترهای یادگیری شده در هر ۴ حالت میتوان دید که اردر همه این پارامترها یکی است و این گواهی است بر این که در حالت عادی overfiting رخ نداده است و پارامترها مقادیر مثبت یا منفی بسیار بزرگ به خود نگرفته‌اند.\n",
    "</div>"
   ]
  }
 ],
 "metadata": {
  "kernelspec": {
   "display_name": "Python 3",
   "language": "python",
   "name": "python3"
  },
  "language_info": {
   "codemirror_mode": {
    "name": "ipython",
    "version": 3
   },
   "file_extension": ".py",
   "mimetype": "text/x-python",
   "name": "python",
   "nbconvert_exporter": "python",
   "pygments_lexer": "ipython3",
   "version": "3.7.4"
  }
 },
 "nbformat": 4,
 "nbformat_minor": 4
}
