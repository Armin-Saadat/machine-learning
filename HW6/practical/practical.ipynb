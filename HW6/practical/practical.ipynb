{
 "cells": [
  {
   "cell_type": "markdown",
   "metadata": {},
   "source": [
    "<div dir=\"rtl\">\n",
    "    <h2>\n",
    "       تمرین ششم/بخش عملی\n",
    "    </h2>\n",
    "</div>\n",
    "<p></p>\n",
    "<div dir=\"rtl\">\n",
    "آرمین سعادت بروجنی\n",
    "<p></p>\n",
    "96105829\n",
    "</div>"
   ]
  },
  {
   "cell_type": "markdown",
   "metadata": {},
   "source": [
    "<p></p>\n",
    "<div dir=\"rtl\">\n",
    "    <p></p>\n",
    "    <p></p>\n",
    "    نکته: اجرا شدن کل این ژوپیتر حدود ۴۰ دقیقه زمان می‌برد.\n",
    "    <p></p>\n",
    "    زیرا مراحل class validation به ازای دو حالت خطی و گاوسی و به ازای هر دسته‌بند مربوط به هر رقم انجام می‌شود که در هر حالت ۳ مقدار برای C چک می‌شود که چون 4-fold هست عملا هر کدام از این کارها ۴ بار صورت می‌گیرد.\n",
    "    <p></p>\n",
    "</div>\n",
    "<p></p>\n"
   ]
  },
  {
   "cell_type": "markdown",
   "metadata": {},
   "source": [
    "<p></p>\n",
    "<div dir=\"rtl\">\n",
    "    <h3>\n",
    "       جمع‌آوری کتابخانه‌های مورد نیاز\n",
    "    </h3>\n",
    "</div>\n"
   ]
  },
  {
   "cell_type": "code",
   "execution_count": 1,
   "metadata": {},
   "outputs": [],
   "source": [
    "import numpy as np\n",
    "import pandas as pd\n",
    "from sklearn import datasets\n",
    "import cvxopt\n",
    "import cvxopt.solvers"
   ]
  },
  {
   "cell_type": "markdown",
   "metadata": {},
   "source": [
    "<p></p>\n",
    "<div dir=\"rtl\">\n",
    "    <h3>\n",
    "       بارگذاری و پیش‌پردازش داده‌ها\n",
    "    </h3>\n",
    "</div>\n"
   ]
  },
  {
   "cell_type": "code",
   "execution_count": 2,
   "metadata": {},
   "outputs": [
    {
     "name": "stdout",
     "output_type": "stream",
     "text": [
      "number of Nan features: 3\n"
     ]
    }
   ],
   "source": [
    "digits_dataset = datasets.load_digits()\n",
    "data = pd.DataFrame(digits_dataset.data, columns=digits_dataset.feature_names)\n",
    "data = (data - data.min()) / (data.max() - data.min())\n",
    "print(\"number of Nan features:\",(data.isnull().sum() > 0).sum())"
   ]
  },
  {
   "cell_type": "markdown",
   "metadata": {},
   "source": [
    "<p></p>\n",
    "<div dir=\"rtl\">\n",
    "    ابتدا کمینه هر ستون از مقادیر آن کم شد و سپس مقادیر هر ستون تقسیم بر بیشنه مقدار آن ستون شد.\n",
    "    به این ترتیب داده‌ها نرمال شده و بین ۰ تا ۱ قرار می‌گیرند.\n",
    "    <p></p>\n",
    "        همانطور که مشاهده شد ۳ ویژگی مقدار Nan به خود میگیرد. این ویژگی‌ها به ازای همه داده‌ها مقدار یکسان صفر داشته اند برای همین کمینه و بیشینه یکسانی داشته و تبدیل به Nan شده اند. بنابراین این ۳ ستون از مجموعه داده حذف می‌شود.\n",
    "</div>\n"
   ]
  },
  {
   "cell_type": "code",
   "execution_count": 3,
   "metadata": {},
   "outputs": [
    {
     "data": {
      "text/html": [
       "<div>\n",
       "<style scoped>\n",
       "    .dataframe tbody tr th:only-of-type {\n",
       "        vertical-align: middle;\n",
       "    }\n",
       "\n",
       "    .dataframe tbody tr th {\n",
       "        vertical-align: top;\n",
       "    }\n",
       "\n",
       "    .dataframe thead th {\n",
       "        text-align: right;\n",
       "    }\n",
       "</style>\n",
       "<table border=\"1\" class=\"dataframe\">\n",
       "  <thead>\n",
       "    <tr style=\"text-align: right;\">\n",
       "      <th></th>\n",
       "      <th>pixel_0_1</th>\n",
       "      <th>pixel_0_2</th>\n",
       "      <th>pixel_0_3</th>\n",
       "      <th>pixel_0_4</th>\n",
       "      <th>pixel_0_5</th>\n",
       "      <th>pixel_0_6</th>\n",
       "      <th>pixel_0_7</th>\n",
       "      <th>pixel_1_0</th>\n",
       "      <th>pixel_1_1</th>\n",
       "      <th>pixel_1_2</th>\n",
       "      <th>...</th>\n",
       "      <th>pixel_6_7</th>\n",
       "      <th>pixel_7_0</th>\n",
       "      <th>pixel_7_1</th>\n",
       "      <th>pixel_7_2</th>\n",
       "      <th>pixel_7_3</th>\n",
       "      <th>pixel_7_4</th>\n",
       "      <th>pixel_7_5</th>\n",
       "      <th>pixel_7_6</th>\n",
       "      <th>pixel_7_7</th>\n",
       "      <th>target</th>\n",
       "    </tr>\n",
       "  </thead>\n",
       "  <tbody>\n",
       "    <tr>\n",
       "      <th>0</th>\n",
       "      <td>0.0</td>\n",
       "      <td>0.3125</td>\n",
       "      <td>0.8125</td>\n",
       "      <td>0.5625</td>\n",
       "      <td>0.0625</td>\n",
       "      <td>0.0000</td>\n",
       "      <td>0.0</td>\n",
       "      <td>0.0</td>\n",
       "      <td>0.0000</td>\n",
       "      <td>0.8125</td>\n",
       "      <td>...</td>\n",
       "      <td>0.0</td>\n",
       "      <td>0.0</td>\n",
       "      <td>0.000000</td>\n",
       "      <td>0.3750</td>\n",
       "      <td>0.8125</td>\n",
       "      <td>0.6250</td>\n",
       "      <td>0.0000</td>\n",
       "      <td>0.0000</td>\n",
       "      <td>0.0</td>\n",
       "      <td>0</td>\n",
       "    </tr>\n",
       "    <tr>\n",
       "      <th>1</th>\n",
       "      <td>0.0</td>\n",
       "      <td>0.0000</td>\n",
       "      <td>0.7500</td>\n",
       "      <td>0.8125</td>\n",
       "      <td>0.3125</td>\n",
       "      <td>0.0000</td>\n",
       "      <td>0.0</td>\n",
       "      <td>0.0</td>\n",
       "      <td>0.0000</td>\n",
       "      <td>0.0000</td>\n",
       "      <td>...</td>\n",
       "      <td>0.0</td>\n",
       "      <td>0.0</td>\n",
       "      <td>0.000000</td>\n",
       "      <td>0.0000</td>\n",
       "      <td>0.6875</td>\n",
       "      <td>1.0000</td>\n",
       "      <td>0.6250</td>\n",
       "      <td>0.0000</td>\n",
       "      <td>0.0</td>\n",
       "      <td>1</td>\n",
       "    </tr>\n",
       "    <tr>\n",
       "      <th>2</th>\n",
       "      <td>0.0</td>\n",
       "      <td>0.0000</td>\n",
       "      <td>0.2500</td>\n",
       "      <td>0.9375</td>\n",
       "      <td>0.7500</td>\n",
       "      <td>0.0000</td>\n",
       "      <td>0.0</td>\n",
       "      <td>0.0</td>\n",
       "      <td>0.0000</td>\n",
       "      <td>0.1875</td>\n",
       "      <td>...</td>\n",
       "      <td>0.0</td>\n",
       "      <td>0.0</td>\n",
       "      <td>0.000000</td>\n",
       "      <td>0.0000</td>\n",
       "      <td>0.1875</td>\n",
       "      <td>0.6875</td>\n",
       "      <td>1.0000</td>\n",
       "      <td>0.5625</td>\n",
       "      <td>0.0</td>\n",
       "      <td>2</td>\n",
       "    </tr>\n",
       "    <tr>\n",
       "      <th>3</th>\n",
       "      <td>0.0</td>\n",
       "      <td>0.4375</td>\n",
       "      <td>0.9375</td>\n",
       "      <td>0.8125</td>\n",
       "      <td>0.0625</td>\n",
       "      <td>0.0000</td>\n",
       "      <td>0.0</td>\n",
       "      <td>0.0</td>\n",
       "      <td>0.5000</td>\n",
       "      <td>0.8125</td>\n",
       "      <td>...</td>\n",
       "      <td>0.0</td>\n",
       "      <td>0.0</td>\n",
       "      <td>0.000000</td>\n",
       "      <td>0.4375</td>\n",
       "      <td>0.8125</td>\n",
       "      <td>0.8125</td>\n",
       "      <td>0.5625</td>\n",
       "      <td>0.0000</td>\n",
       "      <td>0.0</td>\n",
       "      <td>3</td>\n",
       "    </tr>\n",
       "    <tr>\n",
       "      <th>4</th>\n",
       "      <td>0.0</td>\n",
       "      <td>0.0000</td>\n",
       "      <td>0.0625</td>\n",
       "      <td>0.6875</td>\n",
       "      <td>0.0000</td>\n",
       "      <td>0.0000</td>\n",
       "      <td>0.0</td>\n",
       "      <td>0.0</td>\n",
       "      <td>0.0000</td>\n",
       "      <td>0.0000</td>\n",
       "      <td>...</td>\n",
       "      <td>0.0</td>\n",
       "      <td>0.0</td>\n",
       "      <td>0.000000</td>\n",
       "      <td>0.0000</td>\n",
       "      <td>0.1250</td>\n",
       "      <td>1.0000</td>\n",
       "      <td>0.2500</td>\n",
       "      <td>0.0000</td>\n",
       "      <td>0.0</td>\n",
       "      <td>4</td>\n",
       "    </tr>\n",
       "    <tr>\n",
       "      <th>...</th>\n",
       "      <td>...</td>\n",
       "      <td>...</td>\n",
       "      <td>...</td>\n",
       "      <td>...</td>\n",
       "      <td>...</td>\n",
       "      <td>...</td>\n",
       "      <td>...</td>\n",
       "      <td>...</td>\n",
       "      <td>...</td>\n",
       "      <td>...</td>\n",
       "      <td>...</td>\n",
       "      <td>...</td>\n",
       "      <td>...</td>\n",
       "      <td>...</td>\n",
       "      <td>...</td>\n",
       "      <td>...</td>\n",
       "      <td>...</td>\n",
       "      <td>...</td>\n",
       "      <td>...</td>\n",
       "      <td>...</td>\n",
       "      <td>...</td>\n",
       "    </tr>\n",
       "    <tr>\n",
       "      <th>1792</th>\n",
       "      <td>0.0</td>\n",
       "      <td>0.2500</td>\n",
       "      <td>0.6250</td>\n",
       "      <td>0.8125</td>\n",
       "      <td>0.3750</td>\n",
       "      <td>0.0000</td>\n",
       "      <td>0.0</td>\n",
       "      <td>0.0</td>\n",
       "      <td>0.0625</td>\n",
       "      <td>1.0000</td>\n",
       "      <td>...</td>\n",
       "      <td>0.0</td>\n",
       "      <td>0.0</td>\n",
       "      <td>0.000000</td>\n",
       "      <td>0.1250</td>\n",
       "      <td>0.8750</td>\n",
       "      <td>0.9375</td>\n",
       "      <td>0.5625</td>\n",
       "      <td>0.0000</td>\n",
       "      <td>0.0</td>\n",
       "      <td>9</td>\n",
       "    </tr>\n",
       "    <tr>\n",
       "      <th>1793</th>\n",
       "      <td>0.0</td>\n",
       "      <td>0.3750</td>\n",
       "      <td>1.0000</td>\n",
       "      <td>0.8125</td>\n",
       "      <td>0.6875</td>\n",
       "      <td>0.0625</td>\n",
       "      <td>0.0</td>\n",
       "      <td>0.0</td>\n",
       "      <td>0.0000</td>\n",
       "      <td>1.0000</td>\n",
       "      <td>...</td>\n",
       "      <td>0.0</td>\n",
       "      <td>0.0</td>\n",
       "      <td>0.000000</td>\n",
       "      <td>0.3750</td>\n",
       "      <td>1.0000</td>\n",
       "      <td>0.8750</td>\n",
       "      <td>0.3750</td>\n",
       "      <td>0.0000</td>\n",
       "      <td>0.0</td>\n",
       "      <td>0</td>\n",
       "    </tr>\n",
       "    <tr>\n",
       "      <th>1794</th>\n",
       "      <td>0.0</td>\n",
       "      <td>0.0625</td>\n",
       "      <td>0.6875</td>\n",
       "      <td>0.9375</td>\n",
       "      <td>0.0625</td>\n",
       "      <td>0.0000</td>\n",
       "      <td>0.0</td>\n",
       "      <td>0.0</td>\n",
       "      <td>0.0000</td>\n",
       "      <td>0.8125</td>\n",
       "      <td>...</td>\n",
       "      <td>0.0</td>\n",
       "      <td>0.0</td>\n",
       "      <td>0.000000</td>\n",
       "      <td>0.1250</td>\n",
       "      <td>0.5625</td>\n",
       "      <td>0.8125</td>\n",
       "      <td>0.3750</td>\n",
       "      <td>0.0000</td>\n",
       "      <td>0.0</td>\n",
       "      <td>8</td>\n",
       "    </tr>\n",
       "    <tr>\n",
       "      <th>1795</th>\n",
       "      <td>0.0</td>\n",
       "      <td>0.1250</td>\n",
       "      <td>0.6250</td>\n",
       "      <td>0.4375</td>\n",
       "      <td>0.0000</td>\n",
       "      <td>0.0000</td>\n",
       "      <td>0.0</td>\n",
       "      <td>0.0</td>\n",
       "      <td>0.0000</td>\n",
       "      <td>0.8750</td>\n",
       "      <td>...</td>\n",
       "      <td>0.0</td>\n",
       "      <td>0.0</td>\n",
       "      <td>0.000000</td>\n",
       "      <td>0.3125</td>\n",
       "      <td>0.7500</td>\n",
       "      <td>1.0000</td>\n",
       "      <td>0.7500</td>\n",
       "      <td>0.0000</td>\n",
       "      <td>0.0</td>\n",
       "      <td>9</td>\n",
       "    </tr>\n",
       "    <tr>\n",
       "      <th>1796</th>\n",
       "      <td>0.0</td>\n",
       "      <td>0.6250</td>\n",
       "      <td>0.8750</td>\n",
       "      <td>0.5000</td>\n",
       "      <td>0.0625</td>\n",
       "      <td>0.0000</td>\n",
       "      <td>0.0</td>\n",
       "      <td>0.0</td>\n",
       "      <td>0.1250</td>\n",
       "      <td>1.0000</td>\n",
       "      <td>...</td>\n",
       "      <td>0.0</td>\n",
       "      <td>0.0</td>\n",
       "      <td>0.111111</td>\n",
       "      <td>0.5000</td>\n",
       "      <td>0.7500</td>\n",
       "      <td>0.8750</td>\n",
       "      <td>0.7500</td>\n",
       "      <td>0.0625</td>\n",
       "      <td>0.0</td>\n",
       "      <td>8</td>\n",
       "    </tr>\n",
       "  </tbody>\n",
       "</table>\n",
       "<p>1797 rows × 62 columns</p>\n",
       "</div>"
      ],
      "text/plain": [
       "      pixel_0_1  pixel_0_2  pixel_0_3  pixel_0_4  pixel_0_5  pixel_0_6  \\\n",
       "0           0.0     0.3125     0.8125     0.5625     0.0625     0.0000   \n",
       "1           0.0     0.0000     0.7500     0.8125     0.3125     0.0000   \n",
       "2           0.0     0.0000     0.2500     0.9375     0.7500     0.0000   \n",
       "3           0.0     0.4375     0.9375     0.8125     0.0625     0.0000   \n",
       "4           0.0     0.0000     0.0625     0.6875     0.0000     0.0000   \n",
       "...         ...        ...        ...        ...        ...        ...   \n",
       "1792        0.0     0.2500     0.6250     0.8125     0.3750     0.0000   \n",
       "1793        0.0     0.3750     1.0000     0.8125     0.6875     0.0625   \n",
       "1794        0.0     0.0625     0.6875     0.9375     0.0625     0.0000   \n",
       "1795        0.0     0.1250     0.6250     0.4375     0.0000     0.0000   \n",
       "1796        0.0     0.6250     0.8750     0.5000     0.0625     0.0000   \n",
       "\n",
       "      pixel_0_7  pixel_1_0  pixel_1_1  pixel_1_2  ...  pixel_6_7  pixel_7_0  \\\n",
       "0           0.0        0.0     0.0000     0.8125  ...        0.0        0.0   \n",
       "1           0.0        0.0     0.0000     0.0000  ...        0.0        0.0   \n",
       "2           0.0        0.0     0.0000     0.1875  ...        0.0        0.0   \n",
       "3           0.0        0.0     0.5000     0.8125  ...        0.0        0.0   \n",
       "4           0.0        0.0     0.0000     0.0000  ...        0.0        0.0   \n",
       "...         ...        ...        ...        ...  ...        ...        ...   \n",
       "1792        0.0        0.0     0.0625     1.0000  ...        0.0        0.0   \n",
       "1793        0.0        0.0     0.0000     1.0000  ...        0.0        0.0   \n",
       "1794        0.0        0.0     0.0000     0.8125  ...        0.0        0.0   \n",
       "1795        0.0        0.0     0.0000     0.8750  ...        0.0        0.0   \n",
       "1796        0.0        0.0     0.1250     1.0000  ...        0.0        0.0   \n",
       "\n",
       "      pixel_7_1  pixel_7_2  pixel_7_3  pixel_7_4  pixel_7_5  pixel_7_6  \\\n",
       "0      0.000000     0.3750     0.8125     0.6250     0.0000     0.0000   \n",
       "1      0.000000     0.0000     0.6875     1.0000     0.6250     0.0000   \n",
       "2      0.000000     0.0000     0.1875     0.6875     1.0000     0.5625   \n",
       "3      0.000000     0.4375     0.8125     0.8125     0.5625     0.0000   \n",
       "4      0.000000     0.0000     0.1250     1.0000     0.2500     0.0000   \n",
       "...         ...        ...        ...        ...        ...        ...   \n",
       "1792   0.000000     0.1250     0.8750     0.9375     0.5625     0.0000   \n",
       "1793   0.000000     0.3750     1.0000     0.8750     0.3750     0.0000   \n",
       "1794   0.000000     0.1250     0.5625     0.8125     0.3750     0.0000   \n",
       "1795   0.000000     0.3125     0.7500     1.0000     0.7500     0.0000   \n",
       "1796   0.111111     0.5000     0.7500     0.8750     0.7500     0.0625   \n",
       "\n",
       "      pixel_7_7  target  \n",
       "0           0.0       0  \n",
       "1           0.0       1  \n",
       "2           0.0       2  \n",
       "3           0.0       3  \n",
       "4           0.0       4  \n",
       "...         ...     ...  \n",
       "1792        0.0       9  \n",
       "1793        0.0       0  \n",
       "1794        0.0       8  \n",
       "1795        0.0       9  \n",
       "1796        0.0       8  \n",
       "\n",
       "[1797 rows x 62 columns]"
      ]
     },
     "execution_count": 3,
     "metadata": {},
     "output_type": "execute_result"
    }
   ],
   "source": [
    "data = data.dropna(axis='columns')\n",
    "data[\"target\"] = digits_dataset.target\n",
    "data"
   ]
  },
  {
   "cell_type": "markdown",
   "metadata": {},
   "source": [
    "<p></p>\n",
    "<div dir=\"rtl\">\n",
    "        بنابراین مجموعه داده مورد نظر از ۱۷۹۷ داده تشکیل شده که هر کدام ۶۱ ویژگی دارد (عملا تعداد پیکسل‌ها). همچنین یک تارگت دارد که مقادیر بین ۰ تا ۹ به خود می‌گیرد.\n",
    "</div>\n"
   ]
  },
  {
   "cell_type": "markdown",
   "metadata": {},
   "source": [
    "<p></p>\n",
    "<div dir=\"rtl\">\n",
    "    <h3>\n",
    "       تقسیم داده‌ها به آموزش و آزمون\n",
    "    </h3>\n",
    "</div>\n"
   ]
  },
  {
   "cell_type": "code",
   "execution_count": 4,
   "metadata": {},
   "outputs": [
    {
     "data": {
      "text/plain": [
       "(179, 1618)"
      ]
     },
     "execution_count": 4,
     "metadata": {},
     "output_type": "execute_result"
    }
   ],
   "source": [
    "distributed_uniformly = False\n",
    "test_amount = int(data.shape[0] * 0.1)\n",
    "while not distributed_uniformly:\n",
    "    data = data.sample(frac=1).reset_index(drop=True)\n",
    "    distributed_uniformly = data[:test_amount].groupby(\"target\")[\"target\"].count().min() >= 15\n",
    "test_data = data[:test_amount]\n",
    "train_data = data[test_amount:]\n",
    "len(test_data), len(train_data)"
   ]
  },
  {
   "cell_type": "markdown",
   "metadata": {},
   "source": [
    "<p></p>\n",
    "<div dir=\"rtl\">\n",
    "        در قسمت بالا داده‌ها بر میخورند و ۱۰ درصد اول به عنوان داده آزمون در نظر گرفته می‌شود با این شرط که شامل حداقل ۱۵ داده برای هر یک از دسته‌ها باشد.\n",
    "    <p></p>\n",
    "    در ادامه تعداد داده‌های موجود در هر دسته از مجموعه آزمون آمده است که حداقل ۱۵ هستند.\n",
    "</div>\n"
   ]
  },
  {
   "cell_type": "code",
   "execution_count": 5,
   "metadata": {},
   "outputs": [
    {
     "data": {
      "text/plain": [
       "target\n",
       "0    15\n",
       "1    15\n",
       "2    15\n",
       "3    16\n",
       "4    18\n",
       "5    17\n",
       "6    18\n",
       "7    22\n",
       "8    24\n",
       "9    19\n",
       "Name: target, dtype: int64"
      ]
     },
     "execution_count": 5,
     "metadata": {},
     "output_type": "execute_result"
    }
   ],
   "source": [
    "test_data.groupby(\"target\")[\"target\"].count()"
   ]
  },
  {
   "cell_type": "markdown",
   "metadata": {},
   "source": [
    "<div dir=\"rtl\">\n",
    "    <h3>\n",
    "       ایجاد هسته خطی\n",
    "    </h3>\n",
    "</div>"
   ]
  },
  {
   "cell_type": "code",
   "execution_count": 6,
   "metadata": {},
   "outputs": [],
   "source": [
    "class LinearKernel:\n",
    "    def __call__(self, X1, X2):\n",
    "        return X1 @ X2.T"
   ]
  },
  {
   "cell_type": "markdown",
   "metadata": {},
   "source": [
    "<div dir=\"rtl\">\n",
    "    <h3>\n",
    "       ایجاد هسته گاوسی\n",
    "    </h3>\n",
    "</div>"
   ]
  },
  {
   "cell_type": "code",
   "execution_count": 7,
   "metadata": {},
   "outputs": [],
   "source": [
    "class GaussianKernel:\n",
    "    def __init__(self):\n",
    "        self.theta = 1\n",
    "        \n",
    "        \n",
    "    def __call__(self, X1, X2):\n",
    "        if (X1.ndim == 1) and (X2.ndim == 1):\n",
    "            tmp = np.linalg.norm(X1 - X2)**2\n",
    "        elif ((X1.ndim == 1) and (X2.ndim != 1)) or ((X1.ndim != 1) and (X2.ndim == 1)):\n",
    "            tmp = np.linalg.norm(X1 - X2, axis=1)**2\n",
    "        else:\n",
    "            tmp = np.reshape(np.sum(X1**2,axis=1), (len(X1), 1)) + np.sum(X2**2, axis=1)  -2 * (X1 @ X2.T)\n",
    "        K = np.exp(- tmp/(2*self.theta**2))\n",
    "        return K"
   ]
  },
  {
   "cell_type": "markdown",
   "metadata": {},
   "source": [
    "<div dir=\"rtl\">\n",
    "        کد هسته‌ها مطابق کد ارائه شده در کلاس درس پیاده‌سازی شد.\n",
    "    <p></p>\n",
    "    در ضمن واریانس نیز یه ابرپارامتر حساب می‌شود منتها با تست کردن چندین حالت به صورت دستی مقدار واریانس ۱ برای هسته گاوسی انتخاب شد.\n",
    "</div>\n"
   ]
  },
  {
   "cell_type": "markdown",
   "metadata": {},
   "source": [
    "<div dir=\"rtl\">\n",
    "    <h3>\n",
    "        ایجاد دسته‌بند SVM برای حالت ۲ کلاسه\n",
    "    </h3>\n",
    "</div>"
   ]
  },
  {
   "cell_type": "code",
   "execution_count": 8,
   "metadata": {},
   "outputs": [],
   "source": [
    "class SVM:\n",
    "    def __init__(self, kernel, C):\n",
    "        self.kernel = kernel\n",
    "        self.C = C\n",
    "        self.alphas = None\n",
    "        self.W0 = None\n",
    "        self.X = None\n",
    "        self.Y = None\n",
    "        \n",
    "    def fit(self, X, y): \n",
    "        self.X = X\n",
    "        self.y = y\n",
    "        kernel_matrix = self.kernel(X, X)\n",
    "    \n",
    "        n = X.shape[0]\n",
    "        P = cvxopt.matrix(np.outer(y, y) * kernel_matrix)\n",
    "        q = cvxopt.matrix(np.ones(n) * -1)\n",
    "        A = cvxopt.matrix(y.T * 1.0, (1, n))\n",
    "        b = cvxopt.matrix(0.0)\n",
    "        G = cvxopt.matrix(np.vstack((np.identity(n), np.identity(n) * -1)))\n",
    "        h = cvxopt.matrix(np.hstack((np.ones(n) * self.C, np.zeros(n))))\n",
    "        cvxopt.solvers.options['show_progress'] = False\n",
    "        self.alphas = np.ravel(cvxopt.solvers.qp(P, q, G, h, A, b)['x'])\n",
    "        self.set_W0()\n",
    "\n",
    "    def predict(self, x):\n",
    "        return self._w(x) + self.w0    \n",
    "        \n",
    "    def _w(self, x):\n",
    "        w = 0\n",
    "        for i in range(self.X.shape[0]):\n",
    "            w += self.alphas[i] * self.y[i] * self.kernel(self.X[i], x)\n",
    "        return w;\n",
    "    \n",
    "    def set_W0(self):    \n",
    "        self.w0 = 0\n",
    "        for i, alpha in enumerate(self.alphas):\n",
    "            if alpha > 1e-3:\n",
    "                self.w0 += self.y[i]\n",
    "                self.w0 -= self._w(self.X[i])\n",
    "                break;\n",
    "    \n",
    "    def predict_dataset(self, X):\n",
    "        return np.array([self.predict(x) for x in X])\n",
    "    \n",
    "    def get_accuracy(self, predicted, actual):\n",
    "        cnt = 0\n",
    "        n = len(actual)\n",
    "        for i in range(0, n):\n",
    "            if (predicted[i] > 0 and actual[i] == 1) or (predicted[i] < 0 and actual[i] == -1):\n",
    "                cnt += 1\n",
    "        return cnt / n"
   ]
  },
  {
   "cell_type": "markdown",
   "metadata": {},
   "source": [
    "<div dir=\"rtl\">\n",
    "        روش پیاده‌سازی به این صورت است که ماتریس هسته تشکیل می‌شود و با استفاده از cvxopt آلفا ها به دست می‌آیند. پس از آن با استفاده از آلفا به ازای هر داده w حساب شده و مقدار پیش‌بینی شده می‌تواند حساب شود.\n",
    "</div>\n"
   ]
  },
  {
   "cell_type": "markdown",
   "metadata": {},
   "source": [
    "<div dir=\"rtl\">\n",
    "    <h3>\n",
    "        پیاده‌سازی CV 4-Fold\n",
    "    </h3>\n",
    "    <p></p>\n",
    "    با مشخص کردن حالات مختلف برای c و پاس دادن هسته، یک دسته‌بند از نوع SVM با هسته داده شده ساخته و همه حالات مختلف c را به روش کراس ولیدیشن روی داده‌ها چک میکند و بهترین c را خروجی می‌دهد.\n",
    "    <p></p>\n",
    "    بنابراین این تابع برای هر یک از ۱۰ دسته‌بند مورد نظر باید اعمال شود تا هر SVM با C مناسب خودش کار کند.\n",
    "</div>"
   ]
  },
  {
   "cell_type": "code",
   "execution_count": 9,
   "metadata": {},
   "outputs": [],
   "source": [
    "def cross_validate_4fold(X, y, kernel, C_choices, target_digit): \n",
    "    y = (y == target_digit) * 2 - 1\n",
    "    X_folds = np.array_split(X, 4)\n",
    "    y_folds = np.array_split(y, 4)\n",
    "    \n",
    "    best_C = None \n",
    "    max_accuracy = None\n",
    "    \n",
    "    for c in C_choices:\n",
    "        accuracy_results = []\n",
    "        \n",
    "        for k in range(4):\n",
    "            X_target = None \n",
    "            y_target = None\n",
    "            \n",
    "            for d in range(4):\n",
    "                if k != d:\n",
    "                    if X_target is not None:\n",
    "                        X_target = np.vstack((X_target, X_folds[d]))\n",
    "                        y_target = np.hstack((y_target, y_folds[d]))\n",
    "                    else:\n",
    "                        X_target = X_folds[d]\n",
    "                        y_target = y_folds[d]\n",
    "                        \n",
    "            classifier = SVM(kernel, c)\n",
    "            classifier.fit(X_target, y_target)\n",
    "            predicted = classifier.predict_dataset(X_folds[k])\n",
    "            accuracy_results.append(classifier.get_accuracy(predicted, y_folds[k]))\n",
    "            \n",
    "        mean_accuracy = np.array(accuracy_results).mean()\n",
    "        print(\"accuracy with C = \" + str(c) + \" is: \" + str(mean_accuracy))\n",
    "        if best_C is None or mean_accuracy > max_accuracy:\n",
    "            max_accuracy = mean_accuracy\n",
    "            best_C = c\n",
    "    return best_C        "
   ]
  },
  {
   "cell_type": "markdown",
   "metadata": {},
   "source": [
    "<div dir=\"rtl\">\n",
    "    <h3>\n",
    "        ایحاد دسته‌بند چند کلاسه\n",
    "    </h3>\n",
    "</div>"
   ]
  },
  {
   "cell_type": "code",
   "execution_count": 10,
   "metadata": {},
   "outputs": [],
   "source": [
    "class SVM_MultiClass:\n",
    "    def __init__(self, kernel, Cs):\n",
    "        self.kernel = kernel\n",
    "        self.Cs = Cs\n",
    "        self.classifiers = {}\n",
    "        self.targets = [0, 1, 2, 3, 4, 5, 6, 7, 8, 9]\n",
    "        \n",
    "    def fit(self, X, y):\n",
    "        self.classifiers = {}\n",
    "        for t in self.targets:\n",
    "            self.classifiers[t] = SVM(self.kernel, self.Cs[t])\n",
    "            custom_y = (y == t) * 2 - 1\n",
    "            self.classifiers[t].fit(X, custom_y)\n",
    "    \n",
    "    def predict(self, x):\n",
    "        best_target, max_value = None, None\n",
    "        for t, svm in self.classifiers.items():\n",
    "            predicted_value = svm.predict(x)\n",
    "            if best_target is None or max_value < predicted_value:\n",
    "                best_target = t\n",
    "                max_value = predicted_value\n",
    "        return best_target\n",
    "    \n",
    "    def get_accuracy(self, X, Y):\n",
    "        predicted = np.array([self.predict(x) for x in X])\n",
    "        return (predicted == Y).sum() / len(Y)"
   ]
  },
  {
   "cell_type": "markdown",
   "metadata": {},
   "source": [
    "<div dir=\"rtl\">\n",
    "        در این کلاس با صدا زدن تابع فیت ۱۰ دسته‌بند از نوع SVM با تارگت‌های متفاوت ساخته شده و روی داده‌ها فیت می‌شوند.\n",
    "    <p></p>\n",
    "        همانطور که مشاهده می‌شود به هر دسته‌بند مقدار C مخصوص به خودش داده می‌شود. \n",
    "   <p></p>\n",
    "    برای تعیین تارگت یک داده، بین مقدار پیش‌بینی شده آن داده توسط همه دسته‌بندها ماکسیمم گرفته می‌شود.\n",
    "<p></p>\n",
    "</div>\n"
   ]
  },
  {
   "cell_type": "markdown",
   "metadata": {},
   "source": [
    "<div dir=\"rtl\">\n",
    "    <h3>\n",
    "        تفکیک تارگت از ویژگی‌ها\n",
    "    </h3>\n",
    "</div>"
   ]
  },
  {
   "cell_type": "code",
   "execution_count": 11,
   "metadata": {},
   "outputs": [],
   "source": [
    "x_train = train_data.drop(columns=[\"target\"]).values[:]\n",
    "y_train = train_data[\"target\"].values[:]\n",
    "\n",
    "x_test = test_data.drop(columns=[\"target\"]).values\n",
    "y_test = test_data[\"target\"].values"
   ]
  },
  {
   "cell_type": "markdown",
   "metadata": {},
   "source": [
    "<div dir=\"rtl\">\n",
    "    <h3>\n",
    "    پیدا کردن مجموعه  C مناسب برای دسته‌بندهای خطی\n",
    "    </h3>\n",
    "</div>"
   ]
  },
  {
   "cell_type": "code",
   "execution_count": 12,
   "metadata": {},
   "outputs": [
    {
     "name": "stdout",
     "output_type": "stream",
     "text": [
      "calculating digit 0\n",
      "accuracy with C = 1 is: 0.9987654320987654\n",
      "accuracy with C = 10 is: 0.9981481481481481\n",
      "accuracy with C = 100 is: 0.9981481481481481\n",
      "calculating digit 1\n",
      "accuracy with C = 1 is: 0.9808366947805892\n",
      "accuracy with C = 10 is: 0.9752780833638919\n",
      "accuracy with C = 100 is: 0.9734262315120401\n",
      "calculating digit 2\n",
      "accuracy with C = 1 is: 0.9993827160493827\n",
      "accuracy with C = 10 is: 0.9987639041681946\n",
      "accuracy with C = 100 is: 0.9987639041681946\n",
      "calculating digit 3\n",
      "accuracy with C = 1 is: 0.9536517540642953\n",
      "accuracy with C = 10 is: 0.9660050727294951\n",
      "accuracy with C = 100 is: 0.9765187629874098\n",
      "calculating digit 4\n",
      "accuracy with C = 1 is: 0.9962932404351547\n",
      "accuracy with C = 10 is: 0.9932052927514974\n",
      "accuracy with C = 100 is: 0.9932052927514974\n",
      "calculating digit 5\n",
      "accuracy with C = 1 is: 0.8460716905023836\n",
      "accuracy with C = 10 is: 0.9826961862852952\n",
      "accuracy with C = 100 is: 0.9888751375137514\n",
      "calculating digit 6\n",
      "accuracy with C = 1 is: 0.9956744285539665\n",
      "accuracy with C = 10 is: 0.9944413885833028\n",
      "accuracy with C = 100 is: 0.9925864808703092\n",
      "calculating digit 7\n",
      "accuracy with C = 1 is: 0.9932022368903557\n",
      "accuracy with C = 10 is: 0.9925803691480259\n",
      "accuracy with C = 100 is: 0.9925803691480259\n",
      "calculating digit 8\n",
      "accuracy with C = 1 is: 0.966006600660066\n",
      "accuracy with C = 10 is: 0.9128911502261337\n",
      "accuracy with C = 100 is: 0.9388201320132014\n",
      "calculating digit 9\n",
      "accuracy with C = 1 is: 0.9740435154626573\n",
      "accuracy with C = 10 is: 0.983318054027625\n",
      "accuracy with C = 100 is: 0.9728135313531353\n"
     ]
    },
    {
     "data": {
      "text/plain": [
       "[1, 1, 1, 100, 1, 100, 1, 1, 1, 10]"
      ]
     },
     "execution_count": 12,
     "metadata": {},
     "output_type": "execute_result"
    }
   ],
   "source": [
    "digits = [0, 1 ,2, 3, 4, 5, 6 ,7 ,8 ,9]\n",
    "c_choices = [1, 10, 100]\n",
    "linear_Cs = []\n",
    "for digit in digits:\n",
    "    print(\"calculating digit\", digit)\n",
    "    linear_Cs.append(cross_validate_4fold(x_train, y_train, LinearKernel(), c_choices, digit))\n",
    "\n",
    "linear_Cs"
   ]
  },
  {
   "cell_type": "markdown",
   "metadata": {},
   "source": [
    "<div dir=\"rtl\">\n",
    "    <h3>\n",
    "    پیدا کردن مجموعه  C مناسب برای دسته‌بندهای گاوسی\n",
    "    </h3>\n",
    "</div>"
   ]
  },
  {
   "cell_type": "code",
   "execution_count": 13,
   "metadata": {},
   "outputs": [
    {
     "name": "stdout",
     "output_type": "stream",
     "text": [
      "accuracy with C = 1 is: 0.9987654320987654\n",
      "accuracy with C = 10 is: 0.9993827160493827\n",
      "accuracy with C = 100 is: 0.9993827160493827\n",
      "accuracy with C = 1 is: 0.9975262804058184\n",
      "accuracy with C = 10 is: 0.9975262804058184\n",
      "accuracy with C = 100 is: 0.9975262804058184\n",
      "accuracy with C = 1 is: 0.9981466202175773\n",
      "accuracy with C = 10 is: 0.9981466202175773\n",
      "accuracy with C = 100 is: 0.9981466202175773\n",
      "accuracy with C = 1 is: 0.9938225767021147\n",
      "accuracy with C = 10 is: 0.9962962962962962\n",
      "accuracy with C = 100 is: 0.9962962962962962\n",
      "accuracy with C = 1 is: 0.9944398606527319\n",
      "accuracy with C = 10 is: 0.9944398606527319\n",
      "accuracy with C = 100 is: 0.9944398606527319\n",
      "accuracy with C = 1 is: 0.9950556166727783\n",
      "accuracy with C = 10 is: 0.9956744285539665\n",
      "accuracy with C = 100 is: 0.9956744285539665\n",
      "accuracy with C = 1 is: 0.9975278083363892\n",
      "accuracy with C = 10 is: 0.9975278083363892\n",
      "accuracy with C = 100 is: 0.9975278083363892\n",
      "accuracy with C = 1 is: 0.9962932404351545\n",
      "accuracy with C = 10 is: 0.9962932404351545\n",
      "accuracy with C = 100 is: 0.9962932404351545\n",
      "accuracy with C = 1 is: 0.9888751375137514\n",
      "accuracy with C = 10 is: 0.990728517296174\n",
      "accuracy with C = 100 is: 0.990728517296174\n",
      "accuracy with C = 1 is: 0.9913458012467913\n",
      "accuracy with C = 10 is: 0.9938179929104022\n",
      "accuracy with C = 100 is: 0.9938179929104022\n"
     ]
    },
    {
     "data": {
      "text/plain": [
       "[10, 1, 1, 10, 1, 10, 1, 1, 10, 10]"
      ]
     },
     "execution_count": 13,
     "metadata": {},
     "output_type": "execute_result"
    }
   ],
   "source": [
    "digits = [0, 1 ,2, 3, 4, 5, 6 ,7 ,8 ,9]\n",
    "c_choices = [1, 10, 100]\n",
    "gaussian_Cs = []\n",
    "for digit in digits:\n",
    "    print(\"calculating digit\", digit)\n",
    "    gaussian_Cs.append(cross_validate_4fold(x_train, y_train, GaussianKernel(), c_choices, digit))\n",
    "    \n",
    "gaussian_Cs"
   ]
  },
  {
   "cell_type": "markdown",
   "metadata": {},
   "source": [
    "<div dir=\"rtl\">\n",
    "    <h3>\n",
    "        ساخت دسته‌بند چند کلاسه با C های مناسب با هسته خطی\n",
    "    </h3>\n",
    "</div>"
   ]
  },
  {
   "cell_type": "code",
   "execution_count": 14,
   "metadata": {},
   "outputs": [
    {
     "name": "stdout",
     "output_type": "stream",
     "text": [
      "accuracy on train data:  0.9820766378244746\n",
      "accuracy on test data:  0.9273743016759777\n"
     ]
    }
   ],
   "source": [
    "linear_SVM = SVM_MultiClass(LinearKernel(), linear_Cs)\n",
    "linear_SVM.fit(x_train, y_train)\n",
    "print(\"accuracy on train data: \", linear_SVM.get_accuracy(x_train, y_train))\n",
    "print(\"accuracy on test data: \", linear_SVM.get_accuracy(x_test, y_test))"
   ]
  },
  {
   "cell_type": "markdown",
   "metadata": {},
   "source": [
    "<div dir=\"rtl\">\n",
    "    <h3>\n",
    "        ساخت دسته‌بند چند کلاسه با C های مناسب با هسته گاوسی\n",
    "    </h3>\n",
    "</div>"
   ]
  },
  {
   "cell_type": "code",
   "execution_count": 15,
   "metadata": {},
   "outputs": [
    {
     "name": "stdout",
     "output_type": "stream",
     "text": [
      "accuracy on train data:  1.0\n",
      "accuracy on test data:  0.9832402234636871\n"
     ]
    }
   ],
   "source": [
    "gaussian_SVM = SVM_MultiClass(GaussianKernel(), gaussian_Cs)\n",
    "gaussian_SVM.fit(x_train, y_train)\n",
    "print(\"accuracy on train data: \", gaussian_SVM.get_accuracy(x_train, y_train))\n",
    "print(\"accuracy on test data: \", gaussian_SVM.get_accuracy(x_test, y_test))"
   ]
  },
  {
   "cell_type": "code",
   "execution_count": null,
   "metadata": {},
   "outputs": [],
   "source": []
  }
 ],
 "metadata": {
  "kernelspec": {
   "display_name": "Python 3",
   "language": "python",
   "name": "python3"
  },
  "language_info": {
   "codemirror_mode": {
    "name": "ipython",
    "version": 3
   },
   "file_extension": ".py",
   "mimetype": "text/x-python",
   "name": "python",
   "nbconvert_exporter": "python",
   "pygments_lexer": "ipython3",
   "version": "3.7.4"
  }
 },
 "nbformat": 4,
 "nbformat_minor": 4
}
